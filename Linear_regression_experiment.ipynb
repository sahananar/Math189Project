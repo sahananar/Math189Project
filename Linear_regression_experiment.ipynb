{
 "cells": [
  {
   "cell_type": "code",
   "execution_count": 17,
   "metadata": {},
   "outputs": [],
   "source": [
    "#!pip install statsmodels"
   ]
  },
  {
   "cell_type": "code",
   "execution_count": 18,
   "metadata": {},
   "outputs": [],
   "source": [
    "import numpy as np\n",
    "import pandas as pd\n",
    "import statsmodels.formula.api as smf"
   ]
  },
  {
   "cell_type": "code",
   "execution_count": 19,
   "metadata": {},
   "outputs": [],
   "source": [
    "airline_data = pd.read_csv(\"flight_data.csv\", low_memory = False)"
   ]
  },
  {
   "cell_type": "code",
   "execution_count": 20,
   "metadata": {},
   "outputs": [],
   "source": [
    "df = airline_data.loc[~airline_data[\"DepDelay\"].isnull(), [\"DepDelay\", \"Reporting_Airline\", \"Origin\"]]\n"
   ]
  },
  {
   "cell_type": "code",
   "execution_count": 21,
   "metadata": {},
   "outputs": [],
   "source": [
    "top_50_airorts = df[\"Origin\"].value_counts()[:50].index\n",
    "df = df[df[\"Origin\"].isin(top_50_airorts)]"
   ]
  },
  {
   "cell_type": "code",
   "execution_count": 22,
   "metadata": {},
   "outputs": [],
   "source": [
    "\n",
    "# #df = make_data(stats.norm(0, 3).rvs(50))\n",
    "# fit = smf.ols('DepDelay ~ Reporting_Airline + Origin', data=df).fit()\n",
    "# fit.summary()"
   ]
  },
  {
   "cell_type": "code",
   "execution_count": 23,
   "metadata": {},
   "outputs": [],
   "source": [
    "from sklearn.linear_model import LinearRegression\n",
    "from sklearn.preprocessing import OneHotEncoder\n",
    "#reg = LinearRegression().fit(X, y)"
   ]
  },
  {
   "cell_type": "code",
   "execution_count": 24,
   "metadata": {},
   "outputs": [
    {
     "data": {
      "text/plain": [
       "<1571080x81 sparse matrix of type '<class 'numpy.float64'>'\n",
       "\twith 3118939 stored elements in Compressed Sparse Row format>"
      ]
     },
     "execution_count": 24,
     "metadata": {},
     "output_type": "execute_result"
    }
   ],
   "source": [
    "X = OneHotEncoder(drop='first').fit_transform(df[[\"Reporting_Airline\", \"Origin\"]])\n",
    "X"
   ]
  },
  {
   "cell_type": "code",
   "execution_count": 25,
   "metadata": {},
   "outputs": [
    {
     "data": {
      "text/plain": [
       "array([0., 0., 0., 0., 0., 0., 0., 0., 0., 0., 0., 0., 0., 0., 0., 0., 0.,\n",
       "       1., 0., 0., 0., 0., 0., 0., 0., 0., 0., 0., 0., 0., 0., 0., 0., 0.,\n",
       "       0., 0., 0., 0., 0., 0., 0., 0., 0., 0., 0., 0., 0., 0., 0., 0., 0.,\n",
       "       0., 0., 0., 0., 0., 0., 0., 0., 0., 0., 0., 1., 0., 0., 0., 0., 0.,\n",
       "       0., 0., 0., 0., 0., 0., 0., 0., 0., 0., 0., 0., 0.])"
      ]
     },
     "execution_count": 25,
     "metadata": {},
     "output_type": "execute_result"
    }
   ],
   "source": [
    "X.toarray()[0]"
   ]
  },
  {
   "cell_type": "code",
   "execution_count": 26,
   "metadata": {},
   "outputs": [],
   "source": [
    "reg = LinearRegression().fit(X, df[[\"DepDelay\"]])"
   ]
  },
  {
   "cell_type": "markdown",
   "metadata": {},
   "source": [
    "$y_{delay} = \\sum_{i \\in Airports} a_ix_{flight} + \\sum_{j \\in Airlines} b_jx_{flight}$"
   ]
  },
  {
   "cell_type": "code",
   "execution_count": 27,
   "metadata": {},
   "outputs": [
    {
     "data": {
      "text/plain": [
       "array([[-0.05733605, -1.12686019,  4.3748374 , -0.46051647,  1.83777578,\n",
       "        -0.5191512 ,  0.01312118,  4.36345116,  2.22318665,  0.63622637,\n",
       "         3.94589884, -3.62861865,  1.64986217, -2.1403295 , -1.89830374,\n",
       "         0.39048765,  2.64758117, -1.45867448,  3.56058323,  0.50900655,\n",
       "        -3.19025801,  2.50805518,  1.98019401,  0.46822779, -2.70810827,\n",
       "         1.45692217, -1.00571761,  1.43922126,  3.25864881,  0.74853342,\n",
       "         3.32030279, -0.55183076,  4.51370974,  0.11924754,  1.71364738,\n",
       "         3.63772521,  3.26057565,  1.04289924,  3.99912148,  2.4324003 ,\n",
       "         1.97430076,  1.49220178,  1.32744857,  3.94405793,  4.54357706,\n",
       "         4.19490165,  6.78299023,  3.72993929, -0.5591199 ,  2.27304363,\n",
       "         3.53574745,  2.65283621,  1.17404735,  5.79517959,  2.55459399,\n",
       "         2.56615775,  4.16135584,  1.38677421,  2.76071732,  4.3764234 ,\n",
       "         2.29769699,  4.95292515,  3.01212266,  0.90647404,  0.40236898,\n",
       "         6.37644047,  0.51143521,  5.41589198,  1.69789765,  3.40773653,\n",
       "         2.11714963,  0.32390002, -0.16385366,  2.63567358,  4.8752307 ,\n",
       "        -0.26444236,  0.5221526 ,  0.05097459,  0.18365329,  2.70920904,\n",
       "         2.13873535]])"
      ]
     },
     "execution_count": 27,
     "metadata": {},
     "output_type": "execute_result"
    }
   ],
   "source": [
    "reg.coef_"
   ]
  },
  {
   "cell_type": "code",
   "execution_count": 28,
   "metadata": {},
   "outputs": [],
   "source": [
    "cols = OneHotEncoder(drop='first').fit(df[[\"Reporting_Airline\", \"Origin\"]]).get_feature_names_out()"
   ]
  },
  {
   "cell_type": "code",
   "execution_count": 29,
   "metadata": {},
   "outputs": [
    {
     "data": {
      "text/plain": [
       "array(['Reporting_Airline_AA', 'Reporting_Airline_AS',\n",
       "       'Reporting_Airline_B6', 'Reporting_Airline_CO',\n",
       "       'Reporting_Airline_DH', 'Reporting_Airline_DL',\n",
       "       'Reporting_Airline_EA', 'Reporting_Airline_EV',\n",
       "       'Reporting_Airline_F9', 'Reporting_Airline_FL',\n",
       "       'Reporting_Airline_G4', 'Reporting_Airline_HA',\n",
       "       'Reporting_Airline_HP', 'Reporting_Airline_KH',\n",
       "       'Reporting_Airline_ML (1)', 'Reporting_Airline_MQ',\n",
       "       'Reporting_Airline_NK', 'Reporting_Airline_NW',\n",
       "       'Reporting_Airline_OH', 'Reporting_Airline_OO',\n",
       "       'Reporting_Airline_PA (1)', 'Reporting_Airline_PI',\n",
       "       'Reporting_Airline_PS', 'Reporting_Airline_TW',\n",
       "       'Reporting_Airline_TZ', 'Reporting_Airline_UA',\n",
       "       'Reporting_Airline_US', 'Reporting_Airline_VX',\n",
       "       'Reporting_Airline_WN', 'Reporting_Airline_XE',\n",
       "       'Reporting_Airline_YV', 'Reporting_Airline_YX', 'Origin_ATL',\n",
       "       'Origin_AUS', 'Origin_BNA', 'Origin_BOS', 'Origin_BWI',\n",
       "       'Origin_CLE', 'Origin_CLT', 'Origin_CMH', 'Origin_CVG',\n",
       "       'Origin_DAL', 'Origin_DCA', 'Origin_DEN', 'Origin_DFW',\n",
       "       'Origin_DTW', 'Origin_EWR', 'Origin_FLL', 'Origin_HNL',\n",
       "       'Origin_HOU', 'Origin_IAD', 'Origin_IAH', 'Origin_IND',\n",
       "       'Origin_JFK', 'Origin_LAS', 'Origin_LAX', 'Origin_LGA',\n",
       "       'Origin_MCI', 'Origin_MCO', 'Origin_MDW', 'Origin_MEM',\n",
       "       'Origin_MIA', 'Origin_MSP', 'Origin_MSY', 'Origin_OAK',\n",
       "       'Origin_ORD', 'Origin_PDX', 'Origin_PHL', 'Origin_PHX',\n",
       "       'Origin_PIT', 'Origin_RDU', 'Origin_SAN', 'Origin_SAT',\n",
       "       'Origin_SEA', 'Origin_SFO', 'Origin_SJC', 'Origin_SLC',\n",
       "       'Origin_SMF', 'Origin_SNA', 'Origin_STL', 'Origin_TPA'],\n",
       "      dtype=object)"
      ]
     },
     "execution_count": 29,
     "metadata": {},
     "output_type": "execute_result"
    }
   ],
   "source": [
    "cols"
   ]
  },
  {
   "cell_type": "code",
   "execution_count": 30,
   "metadata": {},
   "outputs": [
    {
     "data": {
      "text/plain": [
       "(1, 81)"
      ]
     },
     "execution_count": 30,
     "metadata": {},
     "output_type": "execute_result"
    }
   ],
   "source": [
    "reg.coef_.shape"
   ]
  },
  {
   "cell_type": "code",
   "execution_count": 31,
   "metadata": {},
   "outputs": [],
   "source": [
    "lin_reg_coefs = pd.DataFrame({\"name\": cols, \"coef\": reg.coef_[0]})"
   ]
  },
  {
   "cell_type": "code",
   "execution_count": 32,
   "metadata": {},
   "outputs": [
    {
     "data": {
      "text/html": [
       "<div>\n",
       "<style scoped>\n",
       "    .dataframe tbody tr th:only-of-type {\n",
       "        vertical-align: middle;\n",
       "    }\n",
       "\n",
       "    .dataframe tbody tr th {\n",
       "        vertical-align: top;\n",
       "    }\n",
       "\n",
       "    .dataframe thead th {\n",
       "        text-align: right;\n",
       "    }\n",
       "</style>\n",
       "<table border=\"1\" class=\"dataframe\">\n",
       "  <thead>\n",
       "    <tr style=\"text-align: right;\">\n",
       "      <th></th>\n",
       "      <th>name</th>\n",
       "      <th>coef</th>\n",
       "      <th>category</th>\n",
       "    </tr>\n",
       "  </thead>\n",
       "  <tbody>\n",
       "    <tr>\n",
       "      <th>0</th>\n",
       "      <td>Reporting_Airline_AA</td>\n",
       "      <td>-0.057336</td>\n",
       "      <td>Airline</td>\n",
       "    </tr>\n",
       "    <tr>\n",
       "      <th>1</th>\n",
       "      <td>Reporting_Airline_AS</td>\n",
       "      <td>-1.126860</td>\n",
       "      <td>Airline</td>\n",
       "    </tr>\n",
       "    <tr>\n",
       "      <th>2</th>\n",
       "      <td>Reporting_Airline_B6</td>\n",
       "      <td>4.374837</td>\n",
       "      <td>Airline</td>\n",
       "    </tr>\n",
       "    <tr>\n",
       "      <th>3</th>\n",
       "      <td>Reporting_Airline_CO</td>\n",
       "      <td>-0.460516</td>\n",
       "      <td>Airline</td>\n",
       "    </tr>\n",
       "    <tr>\n",
       "      <th>4</th>\n",
       "      <td>Reporting_Airline_DH</td>\n",
       "      <td>1.837776</td>\n",
       "      <td>Airline</td>\n",
       "    </tr>\n",
       "    <tr>\n",
       "      <th>...</th>\n",
       "      <td>...</td>\n",
       "      <td>...</td>\n",
       "      <td>...</td>\n",
       "    </tr>\n",
       "    <tr>\n",
       "      <th>76</th>\n",
       "      <td>Origin_SLC</td>\n",
       "      <td>0.522153</td>\n",
       "      <td>Airport</td>\n",
       "    </tr>\n",
       "    <tr>\n",
       "      <th>77</th>\n",
       "      <td>Origin_SMF</td>\n",
       "      <td>0.050975</td>\n",
       "      <td>Airport</td>\n",
       "    </tr>\n",
       "    <tr>\n",
       "      <th>78</th>\n",
       "      <td>Origin_SNA</td>\n",
       "      <td>0.183653</td>\n",
       "      <td>Airport</td>\n",
       "    </tr>\n",
       "    <tr>\n",
       "      <th>79</th>\n",
       "      <td>Origin_STL</td>\n",
       "      <td>2.709209</td>\n",
       "      <td>Airport</td>\n",
       "    </tr>\n",
       "    <tr>\n",
       "      <th>80</th>\n",
       "      <td>Origin_TPA</td>\n",
       "      <td>2.138735</td>\n",
       "      <td>Airport</td>\n",
       "    </tr>\n",
       "  </tbody>\n",
       "</table>\n",
       "<p>81 rows × 3 columns</p>\n",
       "</div>"
      ],
      "text/plain": [
       "                    name      coef category\n",
       "0   Reporting_Airline_AA -0.057336  Airline\n",
       "1   Reporting_Airline_AS -1.126860  Airline\n",
       "2   Reporting_Airline_B6  4.374837  Airline\n",
       "3   Reporting_Airline_CO -0.460516  Airline\n",
       "4   Reporting_Airline_DH  1.837776  Airline\n",
       "..                   ...       ...      ...\n",
       "76            Origin_SLC  0.522153  Airport\n",
       "77            Origin_SMF  0.050975  Airport\n",
       "78            Origin_SNA  0.183653  Airport\n",
       "79            Origin_STL  2.709209  Airport\n",
       "80            Origin_TPA  2.138735  Airport\n",
       "\n",
       "[81 rows x 3 columns]"
      ]
     },
     "execution_count": 32,
     "metadata": {},
     "output_type": "execute_result"
    }
   ],
   "source": [
    "lin_reg_coefs[\"category\"] = lin_reg_coefs[\"name\"].str.contains(\"Origin\").replace({True: \"Airport\", False: \"Airline\"})\n",
    "lin_reg_coefs"
   ]
  },
  {
   "cell_type": "code",
   "execution_count": 33,
   "metadata": {},
   "outputs": [],
   "source": [
    "import seaborn as sns"
   ]
  },
  {
   "cell_type": "code",
   "execution_count": 34,
   "metadata": {},
   "outputs": [
    {
     "data": {
      "text/plain": [
       "<Axes: xlabel='coef', ylabel='Percent'>"
      ]
     },
     "execution_count": 34,
     "metadata": {},
     "output_type": "execute_result"
    },
    {
     "data": {
      "image/png": "[encoded data removed]",
      "text/plain": [
       "<Figure size 640x480 with 1 Axes>"
      ]
     },
     "metadata": {},
     "output_type": "display_data"
    }
   ],
   "source": [
    "sns.histplot(data=lin_reg_coefs[lin_reg_coefs[\"category\"] == \"Airline\"], x=\"coef\", hue=\"category\", stat=\"percent\")"
   ]
  },
  {
   "cell_type": "code",
   "execution_count": 35,
   "metadata": {},
   "outputs": [
    {
     "data": {
      "text/plain": [
       "<Axes: xlabel='coef', ylabel='Percent'>"
      ]
     },
     "execution_count": 35,
     "metadata": {},
     "output_type": "execute_result"
    },
    {
     "data": {
      "image/png": "[encoded data removed]",
      "text/plain": [
       "<Figure size 640x480 with 1 Axes>"
      ]
     },
     "metadata": {},
     "output_type": "display_data"
    }
   ],
   "source": [
    "sns.histplot(data=lin_reg_coefs[lin_reg_coefs[\"category\"] == \"Airport\"], x=\"coef\", hue=\"category\", stat=\"percent\")"
   ]
  },
  {
   "cell_type": "code",
   "execution_count": 36,
   "metadata": {},
   "outputs": [],
   "source": [
    "lin_reg_coefs[\"abs coef\"] = np.abs(lin_reg_coefs[\"coef\"])"
   ]
  },
  {
   "cell_type": "code",
   "execution_count": 37,
   "metadata": {},
   "outputs": [
    {
     "data": {
      "text/plain": [
       "<Axes: xlabel='abs coef', ylabel='Percent'>"
      ]
     },
     "execution_count": 37,
     "metadata": {},
     "output_type": "execute_result"
    },
    {
     "data": {
      "image/png": "[encoded data removed]",
      "text/plain": [
       "<Figure size 640x480 with 1 Axes>"
      ]
     },
     "metadata": {},
     "output_type": "display_data"
    }
   ],
   "source": [
    "sns.histplot(data=lin_reg_coefs[lin_reg_coefs[\"category\"] == \"Airline\"], x=\"abs coef\", hue=\"category\", stat=\"percent\")"
   ]
  },
  {
   "cell_type": "code",
   "execution_count": 38,
   "metadata": {},
   "outputs": [
    {
     "data": {
      "text/plain": [
       "<Axes: xlabel='abs coef', ylabel='Percent'>"
      ]
     },
     "execution_count": 38,
     "metadata": {},
     "output_type": "execute_result"
    },
    {
     "data": {
      "image/png": "[encoded data removed]",
      "text/plain": [
       "<Figure size 640x480 with 1 Axes>"
      ]
     },
     "metadata": {},
     "output_type": "display_data"
    }
   ],
   "source": [
    "sns.histplot(data=lin_reg_coefs[lin_reg_coefs[\"category\"] == \"Airport\"], x=\"abs coef\", hue=\"category\", stat=\"percent\")"
   ]
  },
  {
   "cell_type": "markdown",
   "metadata": {},
   "source": [
    "# Hypothesis Testing"
   ]
  },
  {
   "cell_type": "markdown",
   "metadata": {},
   "source": [
    "# Question 1)\n",
    "Among all airports and airlines, do airports or airlines have a larger influnce on delays\n",
    "\n",
    "null: adverage coef of airports is the same as the adverage coef of airlines\n",
    "Alternative: adverage coef of airports is greater than the adverage coef of airlines"
   ]
  },
  {
   "cell_type": "code",
   "execution_count": 39,
   "metadata": {},
   "outputs": [
    {
     "data": {
      "text/html": [
       "<div>\n",
       "<style scoped>\n",
       "    .dataframe tbody tr th:only-of-type {\n",
       "        vertical-align: middle;\n",
       "    }\n",
       "\n",
       "    .dataframe tbody tr th {\n",
       "        vertical-align: top;\n",
       "    }\n",
       "\n",
       "    .dataframe thead th {\n",
       "        text-align: right;\n",
       "    }\n",
       "</style>\n",
       "<table border=\"1\" class=\"dataframe\">\n",
       "  <thead>\n",
       "    <tr style=\"text-align: right;\">\n",
       "      <th></th>\n",
       "      <th>name</th>\n",
       "      <th>coef</th>\n",
       "      <th>category</th>\n",
       "    </tr>\n",
       "  </thead>\n",
       "  <tbody>\n",
       "    <tr>\n",
       "      <th>0</th>\n",
       "      <td>Reporting_Airline_AA</td>\n",
       "      <td>-0.069569</td>\n",
       "      <td>Airline</td>\n",
       "    </tr>\n",
       "    <tr>\n",
       "      <th>1</th>\n",
       "      <td>Reporting_Airline_AS</td>\n",
       "      <td>-1.029725</td>\n",
       "      <td>Airline</td>\n",
       "    </tr>\n",
       "    <tr>\n",
       "      <th>2</th>\n",
       "      <td>Reporting_Airline_B6</td>\n",
       "      <td>4.661522</td>\n",
       "      <td>Airline</td>\n",
       "    </tr>\n",
       "    <tr>\n",
       "      <th>3</th>\n",
       "      <td>Reporting_Airline_CO</td>\n",
       "      <td>-0.424763</td>\n",
       "      <td>Airline</td>\n",
       "    </tr>\n",
       "    <tr>\n",
       "      <th>4</th>\n",
       "      <td>Reporting_Airline_DH</td>\n",
       "      <td>1.722580</td>\n",
       "      <td>Airline</td>\n",
       "    </tr>\n",
       "    <tr>\n",
       "      <th>...</th>\n",
       "      <td>...</td>\n",
       "      <td>...</td>\n",
       "      <td>...</td>\n",
       "    </tr>\n",
       "    <tr>\n",
       "      <th>432</th>\n",
       "      <td>Origin_XWA</td>\n",
       "      <td>-14.188019</td>\n",
       "      <td>Airport</td>\n",
       "    </tr>\n",
       "    <tr>\n",
       "      <th>433</th>\n",
       "      <td>Origin_YAK</td>\n",
       "      <td>-5.644320</td>\n",
       "      <td>Airport</td>\n",
       "    </tr>\n",
       "    <tr>\n",
       "      <th>434</th>\n",
       "      <td>Origin_YAP</td>\n",
       "      <td>-6.364347</td>\n",
       "      <td>Airport</td>\n",
       "    </tr>\n",
       "    <tr>\n",
       "      <th>435</th>\n",
       "      <td>Origin_YKM</td>\n",
       "      <td>-8.912375</td>\n",
       "      <td>Airport</td>\n",
       "    </tr>\n",
       "    <tr>\n",
       "      <th>436</th>\n",
       "      <td>Origin_YUM</td>\n",
       "      <td>-7.316486</td>\n",
       "      <td>Airport</td>\n",
       "    </tr>\n",
       "  </tbody>\n",
       "</table>\n",
       "<p>437 rows × 3 columns</p>\n",
       "</div>"
      ],
      "text/plain": [
       "                     name       coef category\n",
       "0    Reporting_Airline_AA  -0.069569  Airline\n",
       "1    Reporting_Airline_AS  -1.029725  Airline\n",
       "2    Reporting_Airline_B6   4.661522  Airline\n",
       "3    Reporting_Airline_CO  -0.424763  Airline\n",
       "4    Reporting_Airline_DH   1.722580  Airline\n",
       "..                    ...        ...      ...\n",
       "432            Origin_XWA -14.188019  Airport\n",
       "433            Origin_YAK  -5.644320  Airport\n",
       "434            Origin_YAP  -6.364347  Airport\n",
       "435            Origin_YKM  -8.912375  Airport\n",
       "436            Origin_YUM  -7.316486  Airport\n",
       "\n",
       "[437 rows x 3 columns]"
      ]
     },
     "execution_count": 39,
     "metadata": {},
     "output_type": "execute_result"
    }
   ],
   "source": [
    "airline_data = pd.read_csv(\"flight_data.csv\", low_memory = False)\n",
    "df = airline_data.loc[~airline_data[\"DepDelay\"].isnull(), [\"DepDelay\", \"Reporting_Airline\", \"Origin\"]]\n",
    "\n",
    "X = OneHotEncoder(drop='first').fit_transform(df[[\"Reporting_Airline\", \"Origin\"]])\n",
    "reg = LinearRegression().fit(X, df[[\"DepDelay\"]])\n",
    "cols = OneHotEncoder(drop='first').fit(df[[\"Reporting_Airline\", \"Origin\"]]).get_feature_names_out()\n",
    "lin_reg_coefs = pd.DataFrame({\"name\": cols, \"coef\": reg.coef_[0]})\n",
    "lin_reg_coefs[\"category\"] = lin_reg_coefs[\"name\"].str.contains(\"Origin\").replace({True: \"Airport\", False: \"Airline\"})\n",
    "lin_reg_coefs"
   ]
  },
  {
   "cell_type": "code",
   "execution_count": 40,
   "metadata": {},
   "outputs": [
    {
     "name": "stdout",
     "output_type": "stream",
     "text": [
      "Statsmodels api: (-0.05581475934766633, 2.923180199342047)\n"
     ]
    }
   ],
   "source": [
    "import statsmodels.api as sm\n",
    "import statsmodels.formula.api as smf\n",
    "\n",
    "xy_object = sm.stats.CompareMeans(\n",
    "    sm.stats.DescrStatsW(lin_reg_coefs.loc[lin_reg_coefs[\"category\"] == \"Airline\", \"coef\"]), \n",
    "    sm.stats.DescrStatsW(lin_reg_coefs.loc[lin_reg_coefs[\"category\"] == \"Airport\", \"coef\"])\n",
    ")\n",
    "\n",
    "sm_result = xy_object.tconfint_diff(alpha=0.05, usevar='unequal')\n",
    "print(f'Statsmodels api: {sm_result}')"
   ]
  },
  {
   "cell_type": "code",
   "execution_count": 41,
   "metadata": {},
   "outputs": [
    {
     "data": {
      "text/plain": [
       "(0.18536963518433547, inf)"
      ]
     },
     "execution_count": 41,
     "metadata": {},
     "output_type": "execute_result"
    }
   ],
   "source": [
    "xy_object.tconfint_diff(alpha=0.05, usevar='unequal', alternative=\"larger\")"
   ]
  },
  {
   "cell_type": "code",
   "execution_count": 42,
   "metadata": {},
   "outputs": [
    {
     "data": {
      "text/plain": [
       "(-inf, 2.681995804810045)"
      ]
     },
     "execution_count": 42,
     "metadata": {},
     "output_type": "execute_result"
    }
   ],
   "source": [
    "xy_object.tconfint_diff(alpha=0.05, usevar='unequal', alternative=\"smaller\")"
   ]
  },
  {
   "cell_type": "markdown",
   "metadata": {},
   "source": [
    "# Permutation Experiment"
   ]
  },
  {
   "cell_type": "code",
   "execution_count": 43,
   "metadata": {},
   "outputs": [
    {
     "data": {
      "text/html": [
       "<div>\n",
       "<style scoped>\n",
       "    .dataframe tbody tr th:only-of-type {\n",
       "        vertical-align: middle;\n",
       "    }\n",
       "\n",
       "    .dataframe tbody tr th {\n",
       "        vertical-align: top;\n",
       "    }\n",
       "\n",
       "    .dataframe thead th {\n",
       "        text-align: right;\n",
       "    }\n",
       "</style>\n",
       "<table border=\"1\" class=\"dataframe\">\n",
       "  <thead>\n",
       "    <tr style=\"text-align: right;\">\n",
       "      <th></th>\n",
       "      <th>coef</th>\n",
       "    </tr>\n",
       "    <tr>\n",
       "      <th>category</th>\n",
       "      <th></th>\n",
       "    </tr>\n",
       "  </thead>\n",
       "  <tbody>\n",
       "    <tr>\n",
       "      <th>Airline</th>\n",
       "      <td>0.712915</td>\n",
       "    </tr>\n",
       "    <tr>\n",
       "      <th>Airport</th>\n",
       "      <td>-0.720768</td>\n",
       "    </tr>\n",
       "  </tbody>\n",
       "</table>\n",
       "</div>"
      ],
      "text/plain": [
       "              coef\n",
       "category          \n",
       "Airline   0.712915\n",
       "Airport  -0.720768"
      ]
     },
     "execution_count": 43,
     "metadata": {},
     "output_type": "execute_result"
    }
   ],
   "source": [
    "lin_reg_coefs[[\"category\", \"coef\"]].groupby(\"category\").mean()"
   ]
  },
  {
   "cell_type": "code",
   "execution_count": 44,
   "metadata": {},
   "outputs": [],
   "source": [
    "def run_permutation(df, category=\"category\", operation=lambda x, y: 0, n=1000):\n",
    "    random_df = df.copy(deep=True)\n",
    "    sample_stat = operation(df, category)\n",
    "    sim_stats = []\n",
    "    for _ in range(1000):\n",
    "        random_df[\"simulated\"] = random_df[category].sample(frac=1).reset_index(drop=True)\n",
    "        random_df\n",
    "        sim_stats.append(\n",
    "            operation(random_df.drop(category, axis=1), \"simulated\")\n",
    "        )\n",
    "    return np.array(sim_stats), sample_stat\n",
    "\n",
    "diff_means = lambda df, category: df.groupby(category).mean().diff().iloc[1, 0]\n",
    "sim_stats, sample_stat = run_permutation(lin_reg_coefs[[\"category\", \"coef\"]], category=\"category\", operation=diff_means, n=1000)"
   ]
  },
  {
   "cell_type": "code",
   "execution_count": 45,
   "metadata": {},
   "outputs": [
    {
     "data": {
      "text/plain": [
       "(array([-1.28821223e+00,  1.94261414e+00, -8.66424635e-01,  2.12550206e+00,\n",
       "         2.84403400e+00,  6.32050708e-01, -2.58276390e+00, -2.31613591e-02,\n",
       "         2.35098038e+00,  5.17128120e-01,  1.15613333e-01,  1.24262536e+00,\n",
       "         1.55227051e+00,  8.68894333e-01, -7.58472463e+00, -8.91541116e-01,\n",
       "         2.45783457e+00,  1.53040958e+00, -2.08341525e-01, -1.48269308e+00,\n",
       "        -1.30993494e+00, -9.24984431e-02, -1.75461606e+00,  1.50462357e+00,\n",
       "        -4.09172339e+00, -1.00349480e+00, -2.27267389e+00,  6.77283661e-01,\n",
       "         1.41449075e+00,  7.43256545e-01,  1.29852074e+00,  2.12738450e+00,\n",
       "        -9.40612764e+00, -7.37346332e-01, -2.51125707e+00, -5.98283224e-01,\n",
       "         1.35849077e+00,  6.16338678e-01,  7.41686915e-01, -1.71419740e+00,\n",
       "        -1.16062814e+00,  1.72246428e+00, -2.46802781e-01,  2.14607754e+00,\n",
       "         2.64514331e+00, -5.00481839e+00, -1.43014772e+00, -2.91985788e+00,\n",
       "         2.37018645e+00,  1.59933307e+00,  2.10330093e+00, -3.25222763e+00,\n",
       "         3.65739644e+00, -6.87479194e+00,  1.68472186e+00, -1.33648641e+00,\n",
       "         4.24640254e+00, -4.62350222e+00,  2.66843907e+00, -1.87867724e+00,\n",
       "        -6.10983368e-01, -4.15942181e+00, -1.92233192e+00, -5.02956735e-01,\n",
       "         2.68032360e-01,  2.30525938e+00, -1.40032166e+00,  3.13515134e+00,\n",
       "        -1.70715785e+00,  3.09847911e+00,  1.94796241e+00,  2.26780879e+00,\n",
       "         1.42599898e+00, -4.17560495e+00, -1.18430259e-01,  2.96942467e+00,\n",
       "        -4.11484641e+00,  5.35759804e-01, -8.03677316e+00,  1.34192266e+00,\n",
       "         1.59856964e+00,  5.72700256e-01,  4.63108896e-01,  1.05617556e-01,\n",
       "        -3.28144529e-01, -7.52174404e-01, -2.13671624e+00,  4.54932004e+00,\n",
       "        -3.74382423e+00,  7.35137924e-01, -9.49033417e-01,  1.88813570e+00,\n",
       "         1.68929966e+00,  1.81219814e+00, -1.32939673e+00, -2.72927123e+00,\n",
       "        -7.93067134e-01, -2.61352383e+00,  1.87329421e+00, -6.85114472e+00,\n",
       "         1.00528952e+00, -2.48288268e+00,  1.00154700e+00,  1.04946523e+00,\n",
       "         1.92375239e+00, -2.28025049e+00,  1.79838509e+00,  9.91429342e-01,\n",
       "        -8.67988070e-01,  4.73525259e-01,  9.04677983e-02,  2.86384817e-01,\n",
       "        -1.02651965e+00,  1.79269047e+00,  2.94803537e+00, -1.31103213e+00,\n",
       "         4.43704825e-01,  3.42528145e+00, -1.29853979e+00,  4.13097104e+00,\n",
       "         1.90616652e+00,  2.01925283e+00, -5.12715316e+00,  1.49905113e+00,\n",
       "        -2.15381740e+00,  1.55047348e+00,  3.71202347e+00,  3.56937826e+00,\n",
       "         1.44203685e+00, -6.15040683e+00,  1.20371720e-01,  1.98991758e+00,\n",
       "         1.35602232e+00,  3.17517871e+00, -3.67827338e+00,  2.65364211e+00,\n",
       "         1.37484403e+00,  2.28262371e+00,  2.20203667e-03,  8.55695317e-01,\n",
       "         1.30060499e-01,  2.38819487e+00, -1.02833424e-01, -5.29952528e-01,\n",
       "        -3.39801279e+00,  1.39946009e-01, -4.12495034e+00,  3.29053332e-01,\n",
       "         2.35916971e+00,  1.36840974e+00,  2.86322028e+00,  2.31718546e-01,\n",
       "         1.58307137e+00, -3.63499815e+00,  3.67410631e+00, -2.91224229e+00,\n",
       "         5.64072704e-01, -4.16403132e+00,  9.25883005e-01, -6.46201988e+00,\n",
       "        -7.86774252e-01, -5.01343157e+00,  9.16757712e-01,  1.34256508e+00,\n",
       "         8.33300808e-01,  1.02553074e+00, -1.07235189e-01,  9.68214496e-01,\n",
       "        -2.60202835e+00, -1.82746147e+00,  2.71606715e-01, -1.52180817e-01,\n",
       "         5.72347619e-01,  2.07460535e+00, -5.68951266e+00, -1.27780564e+00,\n",
       "         8.64678455e-01, -2.85168778e+00,  2.61205306e+00,  2.40269859e-01,\n",
       "         4.12304949e-01, -1.82517427e+00,  1.21511378e+00,  4.20623372e+00,\n",
       "        -3.84966912e+00,  2.12686262e+00, -2.11377701e+00,  1.59309768e+00,\n",
       "        -1.62351622e+00,  1.39455844e-02,  2.55453004e+00,  1.58566051e-01,\n",
       "         2.52430339e-01, -3.00603829e+00, -8.49710902e-01, -1.76342376e+00,\n",
       "         1.57681552e+00,  1.04288735e+00,  1.02734234e+00,  1.01086871e+00,\n",
       "        -2.17751376e+00,  3.34590843e+00, -2.49184119e+00, -9.63599470e-01,\n",
       "        -4.22178537e-01, -4.30313757e-01,  2.26818436e+00,  9.46228336e-01,\n",
       "         3.78596759e-01,  1.32147277e+00,  1.28831691e+00, -1.02596079e+00,\n",
       "         1.25357249e+00,  3.64301606e+00, -5.82586833e+00, -3.03924029e+00,\n",
       "        -4.26021841e+00, -4.93346297e+00, -2.28083065e+00,  4.11733651e-01,\n",
       "         8.91682667e-01,  7.59811946e-01, -1.30910253e+00, -8.13738915e-01,\n",
       "        -7.84302238e-01, -1.26811241e+00, -9.43942110e-01,  1.91481886e+00,\n",
       "        -2.71964928e+00, -2.82407226e+00, -1.18718399e-01,  2.96890721e+00,\n",
       "         8.56660204e-01,  1.64449235e-01,  1.55270397e-01,  1.06012663e+00,\n",
       "         1.82053188e+00,  5.49983440e-01,  2.06782924e+00, -1.64379181e+00,\n",
       "        -8.58510950e-01,  1.50343344e+00,  9.36263028e-01, -1.94254255e+00,\n",
       "         2.69696654e+00, -7.74166539e-02, -6.43414072e-01, -4.93978229e-01,\n",
       "         3.06359445e+00, -1.27336401e+00,  1.63737573e+00,  6.38971948e-01,\n",
       "         5.94487919e-01,  2.63434825e+00, -9.57525521e-01, -3.08686632e+00,\n",
       "         1.63680750e+00, -2.37973194e-01,  3.13717611e+00, -8.72569132e+00,\n",
       "         6.55484267e-01,  2.02266605e+00,  2.73097937e+00, -8.86281582e-01,\n",
       "         1.77185039e+00, -3.20711906e+00,  2.53973764e+00, -4.38611965e-01,\n",
       "         2.37582993e-01,  2.48163311e+00, -2.62466531e+00,  1.46161957e+00,\n",
       "         1.07210758e+00, -4.35425837e+00, -1.56550265e+00,  2.09764440e+00,\n",
       "         6.88641616e-01, -1.27449791e+00,  1.45828644e+00,  6.43512952e-01,\n",
       "         1.44633095e+00,  1.93880057e+00,  7.00012783e-01, -4.21724502e-01,\n",
       "        -2.66908198e+00,  2.78402011e+00, -9.26121147e-01,  7.08024469e-02,\n",
       "         2.53473470e+00, -1.72887791e+00,  4.02580940e-02, -1.70032626e-01,\n",
       "         1.07717192e+00,  3.69304133e+00,  2.75876331e+00, -4.20852195e-01,\n",
       "         1.77968915e+00,  1.46088003e+00, -1.46869479e-01,  6.75541607e-02,\n",
       "         5.11945709e-01, -5.23447539e+00,  2.39183261e+00, -7.99855360e-01,\n",
       "        -2.57127425e+00,  1.36151101e+00,  1.24129784e+00, -1.82659259e+00,\n",
       "        -2.83406264e+00,  1.38317910e+00,  2.55399695e+00,  1.79428221e+00,\n",
       "        -1.99811716e+00, -1.59914633e+00, -6.17359299e-01, -6.79301592e-02,\n",
       "        -2.25749264e+00, -2.95216199e-01,  1.13017056e+00, -3.42092315e+00,\n",
       "        -1.03183879e+00,  5.24796620e-01, -2.19136323e+00, -6.27026339e+00,\n",
       "         1.75556450e+00,  7.66386681e-01,  8.96945063e-01,  2.45537640e+00,\n",
       "         3.08134962e+00,  1.30148964e+00, -4.16798690e+00, -2.69688931e-01,\n",
       "         3.62778640e-01,  1.11740240e+00,  1.93118931e-01,  1.91993020e+00,\n",
       "         9.42845348e-01,  1.69074636e+00,  1.12117339e+00, -1.13630034e-01,\n",
       "        -3.53273768e+00,  1.30979402e+00,  1.60202846e+00,  2.97831311e+00,\n",
       "        -7.63634469e+00, -1.40809579e+00,  1.58774413e-01,  1.98682545e+00,\n",
       "        -5.61100465e-01,  1.83442324e-02, -2.46873892e-01, -8.44936759e-01,\n",
       "        -2.20824739e+00, -2.55368739e-01, -5.61727480e+00,  1.58498296e+00,\n",
       "        -8.16402890e-01, -1.17869243e-01,  1.43412885e-01, -4.68022408e-01,\n",
       "         1.71213121e+00,  3.20034166e-01, -1.28962553e+00,  6.73321789e-01,\n",
       "        -1.41737143e+00,  1.40828194e-01,  1.16304841e+00,  3.47096442e-01,\n",
       "         5.66842452e-01, -1.87441424e+00,  1.83654456e+00, -2.89711214e+00,\n",
       "         9.51759934e-01, -5.76524637e-01,  4.52158356e-01,  1.42417975e+00,\n",
       "         1.86330415e+00, -7.43214856e-01, -6.21197139e+00, -8.41510819e-01,\n",
       "         4.83352945e-01,  1.01462655e+00,  1.70497663e+00,  2.36833888e-03,\n",
       "         1.71541982e+00, -7.89509393e-02,  9.49367249e-01, -2.72563217e-01,\n",
       "         1.70948802e+00,  1.06558142e+00,  1.90046626e+00,  3.80836323e-01,\n",
       "         5.09693777e-01,  7.56513133e-01,  2.17390841e+00,  2.01639242e+00,\n",
       "         8.09560702e-01,  1.73648487e+00,  1.63864575e+00, -1.80997423e+00,\n",
       "         4.06678838e-01, -1.09168811e+00, -2.33907186e+00,  1.13510897e+00,\n",
       "        -2.00267528e-01,  1.02486176e+00,  8.44550526e-01, -1.82024603e+00,\n",
       "         6.33223459e-01, -3.71654158e+00,  2.66565882e+00, -1.63735671e+00,\n",
       "         1.80803434e+00,  2.76080641e+00, -7.78023704e-02, -4.56605477e+00,\n",
       "         3.01182498e-01,  1.59393441e+00, -1.03133483e+00, -2.11927082e+00,\n",
       "         2.51511003e+00, -3.63304927e+00, -1.27264027e+00,  2.71869162e+00,\n",
       "        -8.16932891e-01, -5.31717583e-01,  1.21845105e+00,  1.50539298e+00,\n",
       "         3.62651560e-01, -9.80327793e-01,  1.07898442e+00, -1.16392171e+00,\n",
       "         3.68025764e-01,  1.39570163e+00, -9.55241167e-01,  1.15020636e+00,\n",
       "        -2.64724604e+00,  2.29341677e+00,  7.88648046e-01,  3.12226616e+00,\n",
       "         1.25298217e+00,  2.99946228e+00, -5.38315640e-01, -1.62239418e-01,\n",
       "        -8.52365836e-01, -3.44573595e+00,  2.48898117e+00,  1.81065421e+00,\n",
       "         2.50920538e-01, -1.53703929e+00,  3.18069863e+00,  1.38829060e+00,\n",
       "         1.20722592e+00,  3.30120161e+00, -1.37976806e+00, -1.44499275e+00,\n",
       "         2.42484913e+00, -3.73101924e+00, -4.70721200e-01, -4.20450429e+00,\n",
       "         1.81981893e+00,  1.17375864e+00,  2.51676566e+00,  3.54187351e-01,\n",
       "         3.14647243e-01,  2.68957832e+00,  2.43819731e+00,  6.66854885e-01,\n",
       "         1.31793006e+00, -7.64913810e-01, -6.18826713e+00, -5.76846900e+00,\n",
       "        -1.82850771e-01,  9.06353238e-01,  3.81984534e-02,  1.38888399e+00,\n",
       "         2.21709129e+00, -3.79781604e+00,  2.25984649e+00, -3.24957029e+00,\n",
       "         7.81724483e-01, -9.84207697e-01, -6.17513903e-01,  1.17392642e+00,\n",
       "        -1.00524232e+00, -2.91877410e+00,  6.84134383e-01,  4.52750187e-01,\n",
       "        -6.13445770e+00, -1.62455335e+00, -4.69553080e+00, -1.51100625e+00,\n",
       "         6.48650774e-01,  1.71616681e+00,  3.10048080e+00, -2.06306339e+00,\n",
       "         2.08154264e+00, -1.40712304e+00,  1.76334905e+00, -2.41447497e-02,\n",
       "        -2.03047774e+00, -4.33041297e+00,  9.50879427e-01,  1.89011532e+00,\n",
       "         1.11942981e-02,  2.08462693e+00, -2.30604240e+00, -1.49993875e-01,\n",
       "         5.69090952e-01, -7.18151550e-02, -2.78711898e+00, -2.90416216e+00,\n",
       "         2.74260148e+00,  2.20848667e-01, -4.07947807e+00,  1.89395736e+00,\n",
       "        -8.92807352e-01,  1.91558957e+00, -2.36401953e+00,  3.03246000e-01,\n",
       "        -1.06837550e+00,  1.68915514e+00,  1.46280014e+00,  3.09098083e+00,\n",
       "         8.57786254e-01, -1.94207410e+00,  1.85727820e+00, -2.85242293e-02,\n",
       "        -2.56297296e+00, -1.35356058e+00, -2.93898546e-02, -1.50086361e-01,\n",
       "         2.76251018e+00,  1.02946584e+00,  2.06637325e-01,  8.88812987e-01,\n",
       "         1.60655465e+00, -6.23301256e+00, -2.44875025e+00,  2.32977943e+00,\n",
       "         1.61926431e+00, -1.71352673e+00,  1.25055108e+00,  6.07378184e-01,\n",
       "        -1.49423184e+00, -2.51275623e-01,  1.32967473e+00, -2.45948446e+00,\n",
       "         2.25080243e+00,  4.57393210e-01,  5.76333272e-01, -3.73860552e-01,\n",
       "         1.57849984e+00,  2.39115743e+00, -9.42121660e-01,  1.23178780e+00,\n",
       "        -5.07954588e-01, -2.55645706e+00,  1.30092024e+00,  1.53286198e-01,\n",
       "         6.13583561e-01,  1.98780799e+00,  1.06351203e+00,  1.44898189e+00,\n",
       "         5.70158019e-01,  2.24182515e+00,  6.08947303e-01, -1.16351457e-01,\n",
       "         2.44252897e+00, -3.88109323e+00,  3.03018068e-01,  1.57841560e+00,\n",
       "        -3.35922059e+00,  1.42171630e+00,  1.33858513e+00, -2.15011245e+00,\n",
       "         4.52900982e-01,  5.50258256e-01, -3.09849145e+00, -9.47024153e-01,\n",
       "         6.84260183e-01, -8.22388769e-02, -5.04622164e+00, -3.54606876e+00,\n",
       "         2.54013339e+00,  4.57840696e-02, -3.18036290e-01,  3.03902291e-01,\n",
       "        -6.29119750e-01, -3.44965744e-01,  7.73417559e-01,  1.94119051e-01,\n",
       "         1.44758348e+00, -5.41221884e+00, -2.02932873e+00, -2.09803919e+00,\n",
       "         7.87417985e-01,  2.93910861e+00,  2.87894458e-01,  1.53352505e+00,\n",
       "         7.54748954e-01, -1.30978044e+00, -1.03064080e+00,  1.00930425e-01,\n",
       "         1.87007681e+00,  1.55264753e+00,  1.20791360e+00, -9.07602614e-02,\n",
       "        -2.85717787e+00,  1.94870171e+00, -5.61331571e+00,  2.36211474e+00,\n",
       "        -1.64046026e+00,  3.17239611e-01, -7.39684596e-01, -4.99031485e+00,\n",
       "         2.29471584e+00,  1.77982730e-01, -3.11791002e+00,  6.95469763e-01,\n",
       "        -5.36934720e-01, -2.87681877e+00, -2.01688793e+00,  1.35657534e+00,\n",
       "        -2.99071445e+00,  2.90330486e+00, -9.94745237e-01,  1.66517296e+00,\n",
       "        -6.75341622e-01,  3.84861959e-01,  2.08893702e+00, -1.39727144e-01,\n",
       "        -2.31505336e+00,  1.21352661e+00, -1.08706561e+00,  1.98904399e+00,\n",
       "         1.52256930e+00,  2.17168914e+00, -8.12803885e-01,  9.52199966e-01,\n",
       "        -2.50071737e-01, -5.09019824e-02,  1.90626175e+00, -1.85315021e+00,\n",
       "        -1.08378979e-01, -5.48184102e-01,  2.32473460e+00,  2.48320839e+00,\n",
       "        -2.26449907e+00, -7.97781569e-01, -4.73516570e+00,  3.75725598e-01,\n",
       "        -1.23778905e+00, -4.44577342e+00, -7.50799136e-01,  1.13440101e+00,\n",
       "        -3.88911283e+00, -6.76207485e-01,  1.11843210e+00, -1.20995447e+00,\n",
       "        -4.63911919e+00, -4.93510628e+00,  1.68534882e+00, -4.18170452e+00,\n",
       "         8.10127812e-02, -2.99383490e+00,  1.16211309e+00, -7.82411973e-01,\n",
       "         2.56426232e+00,  2.52255584e+00,  1.75302894e+00,  2.31022555e+00,\n",
       "        -1.02618232e+00, -9.65793078e-01,  2.25971827e+00, -3.86888002e-01,\n",
       "         1.77676489e+00,  2.92115655e+00,  6.48210319e-01,  2.66320296e+00,\n",
       "         2.42446597e+00,  3.44310187e+00,  6.56966460e-01, -1.56844169e+00,\n",
       "        -1.29622659e+00, -1.38346648e+00,  1.89789712e+00,  1.35008634e+00,\n",
       "         1.47388507e+00, -2.18523021e+00,  1.63524693e+00,  1.80744767e+00,\n",
       "         2.23953405e+00,  2.04351414e-02,  1.51475343e+00, -5.56810780e+00,\n",
       "        -2.67798172e+00,  1.25567612e+00, -7.35735138e+00,  1.04018747e+00,\n",
       "         1.18954562e+00,  2.31201471e+00, -5.17920713e+00,  1.83143152e-01,\n",
       "         1.67509818e+00,  2.98415831e+00,  2.07415448e+00,  2.82091533e+00,\n",
       "        -1.56523400e+00,  3.11774633e+00,  1.57783632e+00,  2.69268609e+00,\n",
       "        -1.47518031e+00, -3.40758830e-01,  1.89539521e+00,  9.16417703e-01,\n",
       "         1.32349944e+00,  1.41969915e+00, -7.43380288e-02,  6.75090505e-01,\n",
       "         1.59957395e+00,  9.62925395e-01,  2.67905418e+00, -7.84772103e-01,\n",
       "         1.17309747e+00, -8.01817991e-01,  3.15411070e+00, -1.58127788e+00,\n",
       "        -2.55494275e+00, -1.84948690e+00,  1.55411105e+00, -2.88696013e+00,\n",
       "        -1.00456069e+00, -1.98255821e+00,  7.97214015e-01,  2.51366699e+00,\n",
       "         1.74146681e+00,  1.53705193e+00, -1.08647147e+00,  5.06602856e-01,\n",
       "         9.62308433e-01,  1.14465169e+00,  1.01961533e-01,  1.54686297e-01,\n",
       "        -4.18398171e+00, -1.55439773e+00, -1.96265487e+00,  1.94190307e+00,\n",
       "        -1.36136514e+00,  1.91312855e+00, -3.16828872e+00,  2.45329526e+00,\n",
       "        -3.69929988e+00,  1.60730690e+00,  2.62418138e+00, -2.69809622e+00,\n",
       "         5.19527907e-01, -2.41085899e+00,  8.69996116e-01, -5.12101411e-03,\n",
       "         4.08879399e+00, -3.38355414e+00, -2.80978046e+00,  1.81182998e+00,\n",
       "         2.55916378e+00, -1.57503737e+00,  1.55719325e+00, -4.27647799e-01,\n",
       "        -3.51925885e+00, -3.13410422e+00,  5.31986964e-01,  2.20353964e+00,\n",
       "        -6.20534351e-01,  2.11294038e+00, -1.36717418e+00,  6.32948537e-01,\n",
       "        -7.06652969e-01,  9.81470825e-01, -5.61600355e+00,  4.53725783e-02,\n",
       "         5.79730538e-01,  2.59737404e+00,  5.73859773e-01,  6.36463973e-01,\n",
       "        -2.07510334e+00,  2.23816259e-01,  1.27413070e+00,  2.24952338e+00,\n",
       "         2.48850108e+00,  8.86357137e-01,  3.37011630e+00, -1.73691554e+00,\n",
       "         1.13724410e+00, -1.73855866e+00,  1.71434459e+00,  2.02433371e+00,\n",
       "         1.22204342e+00,  1.69478984e-01, -1.12770011e-01, -1.22567957e+00,\n",
       "         1.21041669e+00, -2.95598280e+00, -4.93305702e+00,  1.03926187e+00,\n",
       "        -2.10916644e-02,  2.08992840e+00, -4.40341488e-01, -7.49088679e-01,\n",
       "         2.50990444e+00,  9.51168388e-01,  1.30254017e+00,  1.62102494e+00,\n",
       "         1.30865698e+00, -4.93389405e-01,  3.83032823e-01,  7.84974559e-01,\n",
       "        -4.48728687e-02,  6.03769863e-01, -1.00053474e-01,  4.53454744e-01,\n",
       "         1.34336441e+00,  8.72439794e-01,  1.83375399e+00,  2.44758908e+00,\n",
       "        -4.20500990e+00, -2.16361192e+00, -2.78940745e-01, -3.95538666e+00,\n",
       "         3.04152145e-02, -3.38870363e+00, -2.39190218e+00,  2.68161433e+00,\n",
       "        -2.65922418e+00, -3.18536901e+00,  2.08856741e+00,  3.33336141e-01,\n",
       "         8.67948780e-01,  2.93552449e+00,  2.03910797e+00, -2.81023170e+00,\n",
       "         1.59937768e+00,  2.71044216e-01,  1.82439996e+00, -3.91895637e+00,\n",
       "         1.48129158e+00,  8.38627906e-01, -3.62848944e-01, -8.99755073e+00,\n",
       "         2.77405654e+00,  1.41678089e+00, -2.01428060e+00,  1.82713091e+00,\n",
       "         3.06272702e+00,  8.13416794e-01, -1.28299431e+00,  9.12641333e-01,\n",
       "         2.50767433e+00, -3.80568704e+00,  9.85553279e-01,  1.67194075e+00,\n",
       "         6.27510500e-01,  7.89473488e-01,  4.00753600e-01, -2.76396774e+00,\n",
       "         1.34460531e+00,  1.98493553e+00,  2.77367406e+00, -5.51776775e+00,\n",
       "        -1.45997785e+00, -1.77324521e+00,  3.94228853e-01,  9.67364721e-01,\n",
       "        -2.09461378e+00,  2.10244356e+00,  1.68435181e+00, -3.19071107e-01,\n",
       "         1.08658792e+00, -5.86105074e+00,  1.73594780e+00,  1.94673253e+00,\n",
       "         8.36874168e-01, -5.38952233e+00,  4.57659748e-01,  1.24801355e+00,\n",
       "        -2.24064919e+00, -4.38348966e+00,  9.88400683e-01, -3.23910425e+00,\n",
       "         7.40391610e-02,  2.04061972e+00, -9.45679811e-03, -1.36294868e+00,\n",
       "        -1.55948139e+00, -2.66616711e-01, -7.05240060e+00,  3.58058236e+00,\n",
       "        -1.70301011e+00,  7.17014108e-01, -3.01064390e+00,  2.84328082e+00,\n",
       "         2.17837382e+00,  1.76031469e+00,  2.58971571e+00,  2.62530826e+00,\n",
       "         1.13777435e+00,  1.91947710e+00,  3.37113505e-01, -1.68766571e+00,\n",
       "         1.65935712e+00, -3.14962046e+00, -4.48260391e+00, -5.99907982e-01,\n",
       "        -2.59050955e-01,  2.47039992e+00, -2.88369788e+00,  1.12346929e+00,\n",
       "         1.13902033e+00,  1.00423884e+00,  2.06696673e+00, -2.97569970e+00,\n",
       "        -3.33677133e+00,  2.73909673e+00,  1.45360237e+00, -4.86742642e+00,\n",
       "        -3.99084383e+00,  1.10011757e+00, -2.13784715e-01, -2.84107265e+00,\n",
       "        -3.54301293e+00,  2.76285365e+00,  9.65111109e-01,  3.35200504e-01,\n",
       "        -1.29749909e+00,  1.32346869e+00,  3.13791298e+00, -4.51541773e+00,\n",
       "         1.72482586e+00,  2.64741930e+00, -9.42849217e-01,  1.80920633e+00,\n",
       "         7.21114736e-01, -2.96460531e+00,  1.70624971e+00,  9.05808494e-01,\n",
       "        -1.81268486e+00,  1.81197914e+00, -5.56251900e-01,  2.46127725e+00,\n",
       "        -9.53531806e-01, -1.32600154e+01, -1.17240616e+00, -1.81576627e+00,\n",
       "        -1.03869139e-01,  1.80644642e+00, -6.63971916e+00, -1.86710096e+00,\n",
       "        -1.21623458e+00,  1.57585816e+00, -2.95643084e+00,  1.67122660e+00,\n",
       "        -2.86985294e+00, -4.40827189e+00,  1.64611100e+00,  1.08533192e+00,\n",
       "        -1.87269516e+00,  2.68542543e+00,  1.61295706e+00,  2.36150940e+00,\n",
       "        -2.44140702e+00, -1.72147150e+00, -2.34841004e+00,  5.49795846e-01,\n",
       "        -4.26495053e-01, -2.28627331e+00, -2.50653558e+00,  1.23921019e+00,\n",
       "         2.23196487e+00, -3.76629525e+00, -5.91954847e-01, -7.38842741e-01,\n",
       "         3.96617102e-01, -1.44351052e+00,  2.58270832e+00,  1.56550616e+00,\n",
       "        -2.18959794e+00, -8.50731285e-01,  1.85218269e+00,  5.85949084e-02,\n",
       "        -2.04252819e+00, -4.54081859e+00,  2.50351554e+00, -1.91419640e+00,\n",
       "        -8.15836404e-01, -2.68812615e+00,  1.11740397e+00, -7.82784248e-02,\n",
       "        -2.41720088e+00,  1.73334849e+00, -4.43187250e+00,  2.56781899e+00]),\n",
       " -1.4336827199971904)"
      ]
     },
     "execution_count": 45,
     "metadata": {},
     "output_type": "execute_result"
    }
   ],
   "source": [
    "sim_stats, sample_stat"
   ]
  },
  {
   "cell_type": "code",
   "execution_count": 46,
   "metadata": {},
   "outputs": [
    {
     "data": {
      "text/plain": [
       "244"
      ]
     },
     "execution_count": 46,
     "metadata": {},
     "output_type": "execute_result"
    }
   ],
   "source": [
    "np.sum(sample_stat > sim_stats)"
   ]
  },
  {
   "cell_type": "markdown",
   "metadata": {},
   "source": [
    "# Influnce"
   ]
  },
  {
   "cell_type": "code",
   "execution_count": 47,
   "metadata": {},
   "outputs": [
    {
     "data": {
      "text/plain": [
       "((-4.949852374861677, -2.558066363521406),)"
      ]
     },
     "execution_count": 47,
     "metadata": {},
     "output_type": "execute_result"
    }
   ],
   "source": [
    "airline_data = pd.read_csv(\"flight_data.csv\", low_memory = False)\n",
    "df = airline_data.loc[~airline_data[\"DepDelay\"].isnull(), [\"DepDelay\", \"Reporting_Airline\", \"Origin\"]]\n",
    "\n",
    "X = OneHotEncoder(drop='first').fit_transform(df[[\"Reporting_Airline\", \"Origin\"]])\n",
    "reg = LinearRegression().fit(X, df[[\"DepDelay\"]])\n",
    "cols = OneHotEncoder(drop='first').fit(df[[\"Reporting_Airline\", \"Origin\"]]).get_feature_names_out()\n",
    "lin_reg_coefs = pd.DataFrame({\"name\": cols, \"coef\": reg.coef_[0]})\n",
    "lin_reg_coefs[\"category\"] = lin_reg_coefs[\"name\"].str.contains(\"Origin\").replace({True: \"Airport\", False: \"Airline\"})\n",
    "lin_reg_coefs[\"abs coef\"] = np.abs(lin_reg_coefs[\"coef\"])\n",
    "\n",
    "xy_object = sm.stats.CompareMeans(\n",
    "    sm.stats.DescrStatsW(lin_reg_coefs.loc[lin_reg_coefs[\"category\"] == \"Airline\", \"abs coef\"]), \n",
    "    sm.stats.DescrStatsW(lin_reg_coefs.loc[lin_reg_coefs[\"category\"] == \"Airport\", \"abs coef\"])\n",
    ")\n",
    "\n",
    "sm_result = xy_object.tconfint_diff(alpha=0.05, usevar='unequal'), \n",
    "sm_result"
   ]
  },
  {
   "cell_type": "code",
   "execution_count": 48,
   "metadata": {},
   "outputs": [
    {
     "data": {
      "text/plain": [
       "((-4.756756111851738, inf),)"
      ]
     },
     "execution_count": 48,
     "metadata": {},
     "output_type": "execute_result"
    }
   ],
   "source": [
    "sm_result = xy_object.tconfint_diff(alpha=0.05, usevar='unequal', alternative=\"larger\"), \n",
    "sm_result"
   ]
  },
  {
   "cell_type": "code",
   "execution_count": 49,
   "metadata": {},
   "outputs": [
    {
     "data": {
      "text/plain": [
       "((-inf, -2.751162626531346),)"
      ]
     },
     "execution_count": 49,
     "metadata": {},
     "output_type": "execute_result"
    }
   ],
   "source": [
    "sm_result = xy_object.tconfint_diff(alpha=0.05, usevar='unequal', alternative=\"smaller\"), \n",
    "sm_result"
   ]
  },
  {
   "cell_type": "code",
   "execution_count": 50,
   "metadata": {},
   "outputs": [
    {
     "data": {
      "text/plain": [
       "Ttest_indResult(statistic=6.174076074024613, pvalue=9.352199563542947e-10)"
      ]
     },
     "execution_count": 50,
     "metadata": {},
     "output_type": "execute_result"
    }
   ],
   "source": [
    "import scipy.stats as stats\n",
    "stats.ttest_ind(\n",
    "    lin_reg_coefs.loc[lin_reg_coefs[\"category\"] == \"Airport\", \"abs coef\"], \n",
    "    lin_reg_coefs.loc[lin_reg_coefs[\"category\"] == \"Airline\", \"abs coef\"], \n",
    "    equal_var=False,\n",
    "    alternative='greater'\n",
    ")"
   ]
  },
  {
   "cell_type": "code",
   "execution_count": 51,
   "metadata": {},
   "outputs": [
    {
     "data": {
      "text/plain": [
       "Ttest_indResult(statistic=-1.897555702482134, pvalue=0.970430453790775)"
      ]
     },
     "execution_count": 51,
     "metadata": {},
     "output_type": "execute_result"
    }
   ],
   "source": [
    "import scipy.stats as stats\n",
    "stats.ttest_ind(\n",
    "    lin_reg_coefs.loc[lin_reg_coefs[\"category\"] == \"Airport\", \"coef\"], \n",
    "    lin_reg_coefs.loc[lin_reg_coefs[\"category\"] == \"Airline\", \"coef\"], \n",
    "    equal_var=False,\n",
    "    alternative='greater'\n",
    ")"
   ]
  },
  {
   "cell_type": "code",
   "execution_count": 52,
   "metadata": {},
   "outputs": [
    {
     "data": {
      "text/plain": [
       "Ttest_indResult(statistic=1.897555702482134, pvalue=0.029569546209225035)"
      ]
     },
     "execution_count": 52,
     "metadata": {},
     "output_type": "execute_result"
    }
   ],
   "source": [
    "import scipy.stats as stats\n",
    "stats.ttest_ind(\n",
    "    lin_reg_coefs.loc[lin_reg_coefs[\"category\"] == \"Airline\", \"coef\"],\n",
    "    lin_reg_coefs.loc[lin_reg_coefs[\"category\"] == \"Airport\", \"coef\"], \n",
    "    equal_var=False,\n",
    "    alternative='greater'\n",
    ")"
   ]
  },
  {
   "cell_type": "markdown",
   "metadata": {},
   "source": [
    "# Top 50 Airports instead"
   ]
  },
  {
   "cell_type": "code",
   "execution_count": 53,
   "metadata": {},
   "outputs": [
    {
     "data": {
      "text/plain": [
       "((-1.408646601480585, -0.039375035156336224),)"
      ]
     },
     "execution_count": 53,
     "metadata": {},
     "output_type": "execute_result"
    }
   ],
   "source": [
    "airline_data = pd.read_csv(\"flight_data.csv\", low_memory = False)\n",
    "df = airline_data.loc[~airline_data[\"DepDelay\"].isnull(), [\"DepDelay\", \"Reporting_Airline\", \"Origin\"]]\n",
    "df = df[df[\"Origin\"].isin(top_50_airorts)]\n",
    "\n",
    "X = OneHotEncoder(drop='first').fit_transform(df[[\"Reporting_Airline\", \"Origin\"]])\n",
    "reg = LinearRegression().fit(X, df[[\"DepDelay\"]])\n",
    "cols = OneHotEncoder(drop='first').fit(df[[\"Reporting_Airline\", \"Origin\"]]).get_feature_names_out()\n",
    "lin_reg_coefs = pd.DataFrame({\"name\": cols, \"coef\": reg.coef_[0]})\n",
    "lin_reg_coefs[\"category\"] = lin_reg_coefs[\"name\"].str.contains(\"Origin\").replace({True: \"Airport\", False: \"Airline\"})\n",
    "lin_reg_coefs[\"abs coef\"] = np.abs(lin_reg_coefs[\"coef\"])\n",
    "\n",
    "xy_object = sm.stats.CompareMeans(\n",
    "    sm.stats.DescrStatsW(lin_reg_coefs.loc[lin_reg_coefs[\"category\"] == \"Airline\", \"abs coef\"]), \n",
    "    sm.stats.DescrStatsW(lin_reg_coefs.loc[lin_reg_coefs[\"category\"] == \"Airport\", \"abs coef\"])\n",
    ")\n",
    "\n",
    "sm_result = xy_object.tconfint_diff(alpha=0.05, usevar='unequal'), \n",
    "sm_result"
   ]
  },
  {
   "cell_type": "code",
   "execution_count": 54,
   "metadata": {},
   "outputs": [
    {
     "data": {
      "text/plain": [
       "Ttest_indResult(statistic=2.1054667053565983, pvalue=0.019240301312312455)"
      ]
     },
     "execution_count": 54,
     "metadata": {},
     "output_type": "execute_result"
    }
   ],
   "source": [
    "import scipy.stats as stats\n",
    "stats.ttest_ind(\n",
    "    lin_reg_coefs.loc[lin_reg_coefs[\"category\"] == \"Airport\", \"abs coef\"], \n",
    "    lin_reg_coefs.loc[lin_reg_coefs[\"category\"] == \"Airline\", \"abs coef\"], \n",
    "    equal_var=False,\n",
    "    alternative='greater'\n",
    ")"
   ]
  },
  {
   "cell_type": "code",
   "execution_count": 55,
   "metadata": {},
   "outputs": [
    {
     "data": {
      "text/plain": [
       "Ttest_indResult(statistic=3.9536252876070623, pvalue=0.00010613206757001293)"
      ]
     },
     "execution_count": 55,
     "metadata": {},
     "output_type": "execute_result"
    }
   ],
   "source": [
    "import scipy.stats as stats\n",
    "stats.ttest_ind(\n",
    "    lin_reg_coefs.loc[lin_reg_coefs[\"category\"] == \"Airport\", \"coef\"], \n",
    "    lin_reg_coefs.loc[lin_reg_coefs[\"category\"] == \"Airline\", \"coef\"],\n",
    "    \n",
    "    equal_var=False,\n",
    "    alternative='greater'\n",
    ")"
   ]
  },
  {
   "cell_type": "markdown",
   "metadata": {},
   "source": [
    "# Looking only at positive delays"
   ]
  },
  {
   "cell_type": "code",
   "execution_count": 56,
   "metadata": {},
   "outputs": [
    {
     "data": {
      "text/plain": [
       "((-10.900135613497705, -1.7793544242020456),)"
      ]
     },
     "execution_count": 56,
     "metadata": {},
     "output_type": "execute_result"
    }
   ],
   "source": [
    "airline_data = pd.read_csv(\"flight_data.csv\", low_memory = False)\n",
    "df = airline_data.loc[~airline_data[\"DepDelay\"].isnull(), [\"DepDelay\", \"Reporting_Airline\", \"Origin\"]]\n",
    "df = df[df[\"DepDelay\"] > 0]\n",
    "\n",
    "X = OneHotEncoder(drop='first').fit_transform(df[[\"Reporting_Airline\", \"Origin\"]])\n",
    "reg = LinearRegression().fit(X, df[[\"DepDelay\"]])\n",
    "cols = OneHotEncoder(drop='first').fit(df[[\"Reporting_Airline\", \"Origin\"]]).get_feature_names_out()\n",
    "lin_reg_coefs = pd.DataFrame({\"name\": cols, \"coef\": reg.coef_[0]})\n",
    "lin_reg_coefs[\"category\"] = lin_reg_coefs[\"name\"].str.contains(\"Origin\").replace({True: \"Airport\", False: \"Airline\"})\n",
    "lin_reg_coefs[\"abs coef\"] = np.abs(lin_reg_coefs[\"coef\"])\n",
    "\n",
    "xy_object = sm.stats.CompareMeans(\n",
    "    sm.stats.DescrStatsW(lin_reg_coefs.loc[lin_reg_coefs[\"category\"] == \"Airline\", \"abs coef\"]), \n",
    "    sm.stats.DescrStatsW(lin_reg_coefs.loc[lin_reg_coefs[\"category\"] == \"Airport\", \"abs coef\"])\n",
    ")\n",
    "\n",
    "sm_result = xy_object.tconfint_diff(alpha=0.05, usevar='unequal'), \n",
    "sm_result"
   ]
  },
  {
   "cell_type": "code",
   "execution_count": 57,
   "metadata": {},
   "outputs": [
    {
     "data": {
      "text/plain": [
       "Ttest_indResult(statistic=2.7407357836194706, pvalue=0.00333334507493716)"
      ]
     },
     "execution_count": 57,
     "metadata": {},
     "output_type": "execute_result"
    }
   ],
   "source": [
    "import scipy.stats as stats\n",
    "stats.ttest_ind(\n",
    "    lin_reg_coefs.loc[lin_reg_coefs[\"category\"] == \"Airport\", \"abs coef\"], \n",
    "    lin_reg_coefs.loc[lin_reg_coefs[\"category\"] == \"Airline\", \"abs coef\"], \n",
    "    equal_var=False,\n",
    "    alternative='greater'\n",
    ")"
   ]
  },
  {
   "cell_type": "code",
   "execution_count": 58,
   "metadata": {},
   "outputs": [
    {
     "data": {
      "text/plain": [
       "Ttest_indResult(statistic=3.4681831539102417, pvalue=0.00033677912610209214)"
      ]
     },
     "execution_count": 58,
     "metadata": {},
     "output_type": "execute_result"
    }
   ],
   "source": [
    "import scipy.stats as stats\n",
    "stats.ttest_ind(\n",
    "    lin_reg_coefs.loc[lin_reg_coefs[\"category\"] == \"Airport\", \"coef\"], \n",
    "    lin_reg_coefs.loc[lin_reg_coefs[\"category\"] == \"Airline\", \"coef\"],\n",
    "    \n",
    "    equal_var=False,\n",
    "    alternative='greater'\n",
    ")"
   ]
  },
  {
   "cell_type": "code",
   "execution_count": 59,
   "metadata": {},
   "outputs": [
    {
     "data": {
      "text/plain": [
       "(-0.6968051901721958, -10.10336755342333)"
      ]
     },
     "execution_count": 59,
     "metadata": {},
     "output_type": "execute_result"
    }
   ],
   "source": [
    "lin_reg_coefs.loc[lin_reg_coefs[\"category\"] == \"Airport\", \"abs coef\"].mean(), lin_reg_coefs.loc[lin_reg_coefs[\"category\"] == \"Airline\", \"abs coef\"].mean()"
   ]
  },
  {
   "cell_type": "code",
   "execution_count": 60,
   "metadata": {},
   "outputs": [
    {
     "data": {
      "text/plain": [
       "(18.117761237183466, 11.778016218333594)"
      ]
     },
     "execution_count": 60,
     "metadata": {},
     "output_type": "execute_result"
    }
   ],
   "source": [
    "lin_reg_coefs.loc[lin_reg_coefs[\"category\"] == \"Airport\", \"abs coef\"].mean(), lin_reg_coefs.loc[lin_reg_coefs[\"category\"] == \"Airline\", \"abs coef\"].mean()"
   ]
  },
  {
   "cell_type": "code",
   "execution_count": null,
   "metadata": {},
   "outputs": [],
   "source": []
  }
 ],
 "metadata": {
  "kernelspec": {
   "display_name": "asid",
   "language": "python",
   "name": "python3"
  },
  "language_info": {
   "codemirror_mode": {
    "name": "ipython",
    "version": 3
   },
   "file_extension": ".py",
   "mimetype": "text/x-python",
   "name": "python",
   "nbconvert_exporter": "python",
   "pygments_lexer": "ipython3",
   "version": "3.8.18"
  }
 },
 "nbformat": 4,
 "nbformat_minor": 2
}
