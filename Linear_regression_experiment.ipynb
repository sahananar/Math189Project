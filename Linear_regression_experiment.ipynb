{
 "cells": [
  {
   "cell_type": "code",
   "execution_count": 29,
   "metadata": {},
   "outputs": [],
   "source": [
    "#!pip install statsmodels"
   ]
  },
  {
   "cell_type": "code",
   "execution_count": 30,
   "metadata": {},
   "outputs": [],
   "source": [
    "import numpy as np\n",
    "import pandas as pd\n",
    "import statsmodels.formula.api as smf"
   ]
  },
  {
   "cell_type": "code",
   "execution_count": 31,
   "metadata": {},
   "outputs": [],
   "source": [
    "airline_data = pd.read_csv(\"flight_data.csv\", low_memory = False)"
   ]
  },
  {
   "cell_type": "code",
   "execution_count": 32,
   "metadata": {},
   "outputs": [],
   "source": [
    "df = airline_data.loc[~airline_data[\"DepDelay\"].isnull(), [\"DepDelay\", \"Reporting_Airline\", \"Origin\"]]\n"
   ]
  },
  {
   "cell_type": "code",
   "execution_count": 33,
   "metadata": {},
   "outputs": [],
   "source": [
    "top_50_airorts = df[\"Origin\"].value_counts()[:50].index\n",
    "df = df[df[\"Origin\"].isin(top_50_airorts)]"
   ]
  },
  {
   "cell_type": "code",
   "execution_count": 34,
   "metadata": {},
   "outputs": [],
   "source": [
    "\n",
    "# #df = make_data(stats.norm(0, 3).rvs(50))\n",
    "# fit = smf.ols('DepDelay ~ Reporting_Airline + Origin', data=df).fit()\n",
    "# fit.summary()"
   ]
  },
  {
   "cell_type": "code",
   "execution_count": 35,
   "metadata": {},
   "outputs": [],
   "source": [
    "from sklearn.linear_model import LinearRegression\n",
    "from sklearn.preprocessing import OneHotEncoder\n",
    "#reg = LinearRegression().fit(X, y)"
   ]
  },
  {
   "cell_type": "code",
   "execution_count": 36,
   "metadata": {},
   "outputs": [
    {
     "data": {
      "text/plain": [
       "<1571080x81 sparse matrix of type '<class 'numpy.float64'>'\n",
       "\twith 3118939 stored elements in Compressed Sparse Row format>"
      ]
     },
     "execution_count": 36,
     "metadata": {},
     "output_type": "execute_result"
    }
   ],
   "source": [
    "X = OneHotEncoder(drop='first').fit_transform(df[[\"Reporting_Airline\", \"Origin\"]])\n",
    "X"
   ]
  },
  {
   "cell_type": "code",
   "execution_count": 37,
   "metadata": {},
   "outputs": [],
   "source": [
    "reg = LinearRegression().fit(X, df[[\"DepDelay\"]])"
   ]
  },
  {
   "cell_type": "code",
   "execution_count": 38,
   "metadata": {},
   "outputs": [
    {
     "data": {
      "text/plain": [
       "array([[-0.05733605, -1.12686019,  4.3748374 , -0.46051647,  1.83777578,\n",
       "        -0.5191512 ,  0.01312118,  4.36345116,  2.22318665,  0.63622637,\n",
       "         3.94589884, -3.62861865,  1.64986217, -2.1403295 , -1.89830374,\n",
       "         0.39048765,  2.64758117, -1.45867448,  3.56058323,  0.50900655,\n",
       "        -3.19025801,  2.50805518,  1.98019401,  0.46822779, -2.70810827,\n",
       "         1.45692217, -1.00571761,  1.43922126,  3.25864881,  0.74853342,\n",
       "         3.32030279, -0.55183076,  4.51370974,  0.11924754,  1.71364738,\n",
       "         3.63772521,  3.26057565,  1.04289924,  3.99912148,  2.4324003 ,\n",
       "         1.97430076,  1.49220178,  1.32744857,  3.94405793,  4.54357706,\n",
       "         4.19490165,  6.78299023,  3.72993929, -0.5591199 ,  2.27304363,\n",
       "         3.53574745,  2.65283621,  1.17404735,  5.79517959,  2.55459399,\n",
       "         2.56615775,  4.16135584,  1.38677421,  2.76071732,  4.3764234 ,\n",
       "         2.29769699,  4.95292515,  3.01212266,  0.90647404,  0.40236898,\n",
       "         6.37644047,  0.51143521,  5.41589198,  1.69789765,  3.40773653,\n",
       "         2.11714963,  0.32390002, -0.16385366,  2.63567358,  4.8752307 ,\n",
       "        -0.26444236,  0.5221526 ,  0.05097459,  0.18365329,  2.70920904,\n",
       "         2.13873535]])"
      ]
     },
     "execution_count": 38,
     "metadata": {},
     "output_type": "execute_result"
    }
   ],
   "source": [
    "reg.coef_"
   ]
  },
  {
   "cell_type": "code",
   "execution_count": 39,
   "metadata": {},
   "outputs": [],
   "source": [
    "cols = OneHotEncoder(drop='first').fit(df[[\"Reporting_Airline\", \"Origin\"]]).get_feature_names_out()"
   ]
  },
  {
   "cell_type": "code",
   "execution_count": 40,
   "metadata": {},
   "outputs": [
    {
     "data": {
      "text/plain": [
       "array(['Reporting_Airline_AA', 'Reporting_Airline_AS',\n",
       "       'Reporting_Airline_B6', 'Reporting_Airline_CO',\n",
       "       'Reporting_Airline_DH', 'Reporting_Airline_DL',\n",
       "       'Reporting_Airline_EA', 'Reporting_Airline_EV',\n",
       "       'Reporting_Airline_F9', 'Reporting_Airline_FL',\n",
       "       'Reporting_Airline_G4', 'Reporting_Airline_HA',\n",
       "       'Reporting_Airline_HP', 'Reporting_Airline_KH',\n",
       "       'Reporting_Airline_ML (1)', 'Reporting_Airline_MQ',\n",
       "       'Reporting_Airline_NK', 'Reporting_Airline_NW',\n",
       "       'Reporting_Airline_OH', 'Reporting_Airline_OO',\n",
       "       'Reporting_Airline_PA (1)', 'Reporting_Airline_PI',\n",
       "       'Reporting_Airline_PS', 'Reporting_Airline_TW',\n",
       "       'Reporting_Airline_TZ', 'Reporting_Airline_UA',\n",
       "       'Reporting_Airline_US', 'Reporting_Airline_VX',\n",
       "       'Reporting_Airline_WN', 'Reporting_Airline_XE',\n",
       "       'Reporting_Airline_YV', 'Reporting_Airline_YX', 'Origin_ATL',\n",
       "       'Origin_AUS', 'Origin_BNA', 'Origin_BOS', 'Origin_BWI',\n",
       "       'Origin_CLE', 'Origin_CLT', 'Origin_CMH', 'Origin_CVG',\n",
       "       'Origin_DAL', 'Origin_DCA', 'Origin_DEN', 'Origin_DFW',\n",
       "       'Origin_DTW', 'Origin_EWR', 'Origin_FLL', 'Origin_HNL',\n",
       "       'Origin_HOU', 'Origin_IAD', 'Origin_IAH', 'Origin_IND',\n",
       "       'Origin_JFK', 'Origin_LAS', 'Origin_LAX', 'Origin_LGA',\n",
       "       'Origin_MCI', 'Origin_MCO', 'Origin_MDW', 'Origin_MEM',\n",
       "       'Origin_MIA', 'Origin_MSP', 'Origin_MSY', 'Origin_OAK',\n",
       "       'Origin_ORD', 'Origin_PDX', 'Origin_PHL', 'Origin_PHX',\n",
       "       'Origin_PIT', 'Origin_RDU', 'Origin_SAN', 'Origin_SAT',\n",
       "       'Origin_SEA', 'Origin_SFO', 'Origin_SJC', 'Origin_SLC',\n",
       "       'Origin_SMF', 'Origin_SNA', 'Origin_STL', 'Origin_TPA'],\n",
       "      dtype=object)"
      ]
     },
     "execution_count": 40,
     "metadata": {},
     "output_type": "execute_result"
    }
   ],
   "source": [
    "cols"
   ]
  },
  {
   "cell_type": "code",
   "execution_count": 41,
   "metadata": {},
   "outputs": [
    {
     "data": {
      "text/plain": [
       "(1, 81)"
      ]
     },
     "execution_count": 41,
     "metadata": {},
     "output_type": "execute_result"
    }
   ],
   "source": [
    "reg.coef_.shape"
   ]
  },
  {
   "cell_type": "code",
   "execution_count": 42,
   "metadata": {},
   "outputs": [],
   "source": [
    "lin_reg_coefs = pd.DataFrame({\"name\": cols, \"coef\": reg.coef_[0]})"
   ]
  },
  {
   "cell_type": "code",
   "execution_count": 43,
   "metadata": {},
   "outputs": [
    {
     "data": {
      "text/html": [
       "<div>\n",
       "<style scoped>\n",
       "    .dataframe tbody tr th:only-of-type {\n",
       "        vertical-align: middle;\n",
       "    }\n",
       "\n",
       "    .dataframe tbody tr th {\n",
       "        vertical-align: top;\n",
       "    }\n",
       "\n",
       "    .dataframe thead th {\n",
       "        text-align: right;\n",
       "    }\n",
       "</style>\n",
       "<table border=\"1\" class=\"dataframe\">\n",
       "  <thead>\n",
       "    <tr style=\"text-align: right;\">\n",
       "      <th></th>\n",
       "      <th>name</th>\n",
       "      <th>coef</th>\n",
       "      <th>category</th>\n",
       "    </tr>\n",
       "  </thead>\n",
       "  <tbody>\n",
       "    <tr>\n",
       "      <th>0</th>\n",
       "      <td>Reporting_Airline_AA</td>\n",
       "      <td>-0.057336</td>\n",
       "      <td>Airline</td>\n",
       "    </tr>\n",
       "    <tr>\n",
       "      <th>1</th>\n",
       "      <td>Reporting_Airline_AS</td>\n",
       "      <td>-1.126860</td>\n",
       "      <td>Airline</td>\n",
       "    </tr>\n",
       "    <tr>\n",
       "      <th>2</th>\n",
       "      <td>Reporting_Airline_B6</td>\n",
       "      <td>4.374837</td>\n",
       "      <td>Airline</td>\n",
       "    </tr>\n",
       "    <tr>\n",
       "      <th>3</th>\n",
       "      <td>Reporting_Airline_CO</td>\n",
       "      <td>-0.460516</td>\n",
       "      <td>Airline</td>\n",
       "    </tr>\n",
       "    <tr>\n",
       "      <th>4</th>\n",
       "      <td>Reporting_Airline_DH</td>\n",
       "      <td>1.837776</td>\n",
       "      <td>Airline</td>\n",
       "    </tr>\n",
       "    <tr>\n",
       "      <th>...</th>\n",
       "      <td>...</td>\n",
       "      <td>...</td>\n",
       "      <td>...</td>\n",
       "    </tr>\n",
       "    <tr>\n",
       "      <th>76</th>\n",
       "      <td>Origin_SLC</td>\n",
       "      <td>0.522153</td>\n",
       "      <td>Airport</td>\n",
       "    </tr>\n",
       "    <tr>\n",
       "      <th>77</th>\n",
       "      <td>Origin_SMF</td>\n",
       "      <td>0.050975</td>\n",
       "      <td>Airport</td>\n",
       "    </tr>\n",
       "    <tr>\n",
       "      <th>78</th>\n",
       "      <td>Origin_SNA</td>\n",
       "      <td>0.183653</td>\n",
       "      <td>Airport</td>\n",
       "    </tr>\n",
       "    <tr>\n",
       "      <th>79</th>\n",
       "      <td>Origin_STL</td>\n",
       "      <td>2.709209</td>\n",
       "      <td>Airport</td>\n",
       "    </tr>\n",
       "    <tr>\n",
       "      <th>80</th>\n",
       "      <td>Origin_TPA</td>\n",
       "      <td>2.138735</td>\n",
       "      <td>Airport</td>\n",
       "    </tr>\n",
       "  </tbody>\n",
       "</table>\n",
       "<p>81 rows × 3 columns</p>\n",
       "</div>"
      ],
      "text/plain": [
       "                    name      coef category\n",
       "0   Reporting_Airline_AA -0.057336  Airline\n",
       "1   Reporting_Airline_AS -1.126860  Airline\n",
       "2   Reporting_Airline_B6  4.374837  Airline\n",
       "3   Reporting_Airline_CO -0.460516  Airline\n",
       "4   Reporting_Airline_DH  1.837776  Airline\n",
       "..                   ...       ...      ...\n",
       "76            Origin_SLC  0.522153  Airport\n",
       "77            Origin_SMF  0.050975  Airport\n",
       "78            Origin_SNA  0.183653  Airport\n",
       "79            Origin_STL  2.709209  Airport\n",
       "80            Origin_TPA  2.138735  Airport\n",
       "\n",
       "[81 rows x 3 columns]"
      ]
     },
     "execution_count": 43,
     "metadata": {},
     "output_type": "execute_result"
    }
   ],
   "source": [
    "lin_reg_coefs[\"category\"] = lin_reg_coefs[\"name\"].str.contains(\"Origin\").replace({True: \"Airport\", False: \"Airline\"})\n",
    "lin_reg_coefs"
   ]
  },
  {
   "cell_type": "code",
   "execution_count": 44,
   "metadata": {},
   "outputs": [],
   "source": [
    "import seaborn as sns"
   ]
  },
  {
   "cell_type": "code",
   "execution_count": 45,
   "metadata": {},
   "outputs": [
    {
     "data": {
      "text/plain": [
       "<Axes: xlabel='coef', ylabel='Percent'>"
      ]
     },
     "execution_count": 45,
     "metadata": {},
     "output_type": "execute_result"
    },
    {
     "data": {
      "image/png": "[encoded data removed]",
      "text/plain": [
       "<Figure size 640x480 with 1 Axes>"
      ]
     },
     "metadata": {},
     "output_type": "display_data"
    }
   ],
   "source": [
    "sns.histplot(data=lin_reg_coefs[lin_reg_coefs[\"category\"] == \"Airline\"], x=\"coef\", hue=\"category\", stat=\"percent\")"
   ]
  },
  {
   "cell_type": "code",
   "execution_count": 46,
   "metadata": {},
   "outputs": [
    {
     "data": {
      "text/plain": [
       "<Axes: xlabel='coef', ylabel='Percent'>"
      ]
     },
     "execution_count": 46,
     "metadata": {},
     "output_type": "execute_result"
    },
    {
     "data": {
      "image/png": "[encoded data removed]",
      "text/plain": [
       "<Figure size 640x480 with 1 Axes>"
      ]
     },
     "metadata": {},
     "output_type": "display_data"
    }
   ],
   "source": [
    "sns.histplot(data=lin_reg_coefs[lin_reg_coefs[\"category\"] == \"Airport\"], x=\"coef\", hue=\"category\", stat=\"percent\")"
   ]
  },
  {
   "cell_type": "code",
   "execution_count": 47,
   "metadata": {},
   "outputs": [],
   "source": [
    "lin_reg_coefs[\"abs coef\"] = np.abs(lin_reg_coefs[\"coef\"])"
   ]
  },
  {
   "cell_type": "code",
   "execution_count": 48,
   "metadata": {},
   "outputs": [
    {
     "data": {
      "text/plain": [
       "<Axes: xlabel='abs coef', ylabel='Percent'>"
      ]
     },
     "execution_count": 48,
     "metadata": {},
     "output_type": "execute_result"
    },
    {
     "data": {
      "image/png": "[encoded data removed]",
      "text/plain": [
       "<Figure size 640x480 with 1 Axes>"
      ]
     },
     "metadata": {},
     "output_type": "display_data"
    }
   ],
   "source": [
    "sns.histplot(data=lin_reg_coefs[lin_reg_coefs[\"category\"] == \"Airline\"], x=\"abs coef\", hue=\"category\", stat=\"percent\")"
   ]
  },
  {
   "cell_type": "code",
   "execution_count": 49,
   "metadata": {},
   "outputs": [
    {
     "data": {
      "text/plain": [
       "<Axes: xlabel='abs coef', ylabel='Percent'>"
      ]
     },
     "execution_count": 49,
     "metadata": {},
     "output_type": "execute_result"
    },
    {
     "data": {
      "image/png": "[encoded data removed]",
      "text/plain": [
       "<Figure size 640x480 with 1 Axes>"
      ]
     },
     "metadata": {},
     "output_type": "display_data"
    }
   ],
   "source": [
    "sns.histplot(data=lin_reg_coefs[lin_reg_coefs[\"category\"] == \"Airport\"], x=\"abs coef\", hue=\"category\", stat=\"percent\")"
   ]
  },
  {
   "cell_type": "markdown",
   "metadata": {},
   "source": [
    "# Hypothesis Testing"
   ]
  },
  {
   "cell_type": "markdown",
   "metadata": {},
   "source": [
    "# Question 1)\n",
    "Among all airports and airlines, do airports or airlines have a larger influnce on delays\n",
    "\n",
    "null: adverage coef of airports is the same as the adverage coef of airlines\n",
    "Alternative: adverage coef of airports is greater than the adverage coef of airlines"
   ]
  },
  {
   "cell_type": "code",
   "execution_count": 50,
   "metadata": {},
   "outputs": [
    {
     "data": {
      "text/html": [
       "<div>\n",
       "<style scoped>\n",
       "    .dataframe tbody tr th:only-of-type {\n",
       "        vertical-align: middle;\n",
       "    }\n",
       "\n",
       "    .dataframe tbody tr th {\n",
       "        vertical-align: top;\n",
       "    }\n",
       "\n",
       "    .dataframe thead th {\n",
       "        text-align: right;\n",
       "    }\n",
       "</style>\n",
       "<table border=\"1\" class=\"dataframe\">\n",
       "  <thead>\n",
       "    <tr style=\"text-align: right;\">\n",
       "      <th></th>\n",
       "      <th>name</th>\n",
       "      <th>coef</th>\n",
       "      <th>category</th>\n",
       "    </tr>\n",
       "  </thead>\n",
       "  <tbody>\n",
       "    <tr>\n",
       "      <th>0</th>\n",
       "      <td>Reporting_Airline_AA</td>\n",
       "      <td>-0.069569</td>\n",
       "      <td>Airline</td>\n",
       "    </tr>\n",
       "    <tr>\n",
       "      <th>1</th>\n",
       "      <td>Reporting_Airline_AS</td>\n",
       "      <td>-1.029725</td>\n",
       "      <td>Airline</td>\n",
       "    </tr>\n",
       "    <tr>\n",
       "      <th>2</th>\n",
       "      <td>Reporting_Airline_B6</td>\n",
       "      <td>4.661522</td>\n",
       "      <td>Airline</td>\n",
       "    </tr>\n",
       "    <tr>\n",
       "      <th>3</th>\n",
       "      <td>Reporting_Airline_CO</td>\n",
       "      <td>-0.424763</td>\n",
       "      <td>Airline</td>\n",
       "    </tr>\n",
       "    <tr>\n",
       "      <th>4</th>\n",
       "      <td>Reporting_Airline_DH</td>\n",
       "      <td>1.722580</td>\n",
       "      <td>Airline</td>\n",
       "    </tr>\n",
       "    <tr>\n",
       "      <th>...</th>\n",
       "      <td>...</td>\n",
       "      <td>...</td>\n",
       "      <td>...</td>\n",
       "    </tr>\n",
       "    <tr>\n",
       "      <th>432</th>\n",
       "      <td>Origin_XWA</td>\n",
       "      <td>-14.188019</td>\n",
       "      <td>Airport</td>\n",
       "    </tr>\n",
       "    <tr>\n",
       "      <th>433</th>\n",
       "      <td>Origin_YAK</td>\n",
       "      <td>-5.644320</td>\n",
       "      <td>Airport</td>\n",
       "    </tr>\n",
       "    <tr>\n",
       "      <th>434</th>\n",
       "      <td>Origin_YAP</td>\n",
       "      <td>-6.364347</td>\n",
       "      <td>Airport</td>\n",
       "    </tr>\n",
       "    <tr>\n",
       "      <th>435</th>\n",
       "      <td>Origin_YKM</td>\n",
       "      <td>-8.912375</td>\n",
       "      <td>Airport</td>\n",
       "    </tr>\n",
       "    <tr>\n",
       "      <th>436</th>\n",
       "      <td>Origin_YUM</td>\n",
       "      <td>-7.316486</td>\n",
       "      <td>Airport</td>\n",
       "    </tr>\n",
       "  </tbody>\n",
       "</table>\n",
       "<p>437 rows × 3 columns</p>\n",
       "</div>"
      ],
      "text/plain": [
       "                     name       coef category\n",
       "0    Reporting_Airline_AA  -0.069569  Airline\n",
       "1    Reporting_Airline_AS  -1.029725  Airline\n",
       "2    Reporting_Airline_B6   4.661522  Airline\n",
       "3    Reporting_Airline_CO  -0.424763  Airline\n",
       "4    Reporting_Airline_DH   1.722580  Airline\n",
       "..                    ...        ...      ...\n",
       "432            Origin_XWA -14.188019  Airport\n",
       "433            Origin_YAK  -5.644320  Airport\n",
       "434            Origin_YAP  -6.364347  Airport\n",
       "435            Origin_YKM  -8.912375  Airport\n",
       "436            Origin_YUM  -7.316486  Airport\n",
       "\n",
       "[437 rows x 3 columns]"
      ]
     },
     "execution_count": 50,
     "metadata": {},
     "output_type": "execute_result"
    }
   ],
   "source": [
    "airline_data = pd.read_csv(\"flight_data.csv\", low_memory = False)\n",
    "df = airline_data.loc[~airline_data[\"DepDelay\"].isnull(), [\"DepDelay\", \"Reporting_Airline\", \"Origin\"]]\n",
    "\n",
    "X = OneHotEncoder(drop='first').fit_transform(df[[\"Reporting_Airline\", \"Origin\"]])\n",
    "reg = LinearRegression().fit(X, df[[\"DepDelay\"]])\n",
    "cols = OneHotEncoder(drop='first').fit(df[[\"Reporting_Airline\", \"Origin\"]]).get_feature_names_out()\n",
    "lin_reg_coefs = pd.DataFrame({\"name\": cols, \"coef\": reg.coef_[0]})\n",
    "lin_reg_coefs[\"category\"] = lin_reg_coefs[\"name\"].str.contains(\"Origin\").replace({True: \"Airport\", False: \"Airline\"})\n",
    "lin_reg_coefs"
   ]
  },
  {
   "cell_type": "code",
   "execution_count": 51,
   "metadata": {},
   "outputs": [
    {
     "name": "stdout",
     "output_type": "stream",
     "text": [
      "Statsmodels api: (-0.05581475934766633, 2.923180199342047)\n"
     ]
    }
   ],
   "source": [
    "import statsmodels.api as sm\n",
    "import statsmodels.formula.api as smf\n",
    "\n",
    "xy_object = sm.stats.CompareMeans(\n",
    "    sm.stats.DescrStatsW(lin_reg_coefs.loc[lin_reg_coefs[\"category\"] == \"Airline\", \"coef\"]), \n",
    "    sm.stats.DescrStatsW(lin_reg_coefs.loc[lin_reg_coefs[\"category\"] == \"Airport\", \"coef\"])\n",
    ")\n",
    "\n",
    "sm_result = xy_object.tconfint_diff(alpha=0.05, usevar='unequal')\n",
    "print(f'Statsmodels api: {sm_result}')"
   ]
  },
  {
   "cell_type": "code",
   "execution_count": 52,
   "metadata": {},
   "outputs": [
    {
     "data": {
      "text/plain": [
       "(0.18536963518433547, inf)"
      ]
     },
     "execution_count": 52,
     "metadata": {},
     "output_type": "execute_result"
    }
   ],
   "source": [
    "xy_object.tconfint_diff(alpha=0.05, usevar='unequal', alternative=\"larger\")"
   ]
  },
  {
   "cell_type": "code",
   "execution_count": 53,
   "metadata": {},
   "outputs": [
    {
     "data": {
      "text/plain": [
       "(-inf, 2.681995804810045)"
      ]
     },
     "execution_count": 53,
     "metadata": {},
     "output_type": "execute_result"
    }
   ],
   "source": [
    "xy_object.tconfint_diff(alpha=0.05, usevar='unequal', alternative=\"smaller\")"
   ]
  },
  {
   "cell_type": "markdown",
   "metadata": {},
   "source": [
    "# Permutation Experiment"
   ]
  },
  {
   "cell_type": "code",
   "execution_count": 63,
   "metadata": {},
   "outputs": [
    {
     "data": {
      "text/html": [
       "<div>\n",
       "<style scoped>\n",
       "    .dataframe tbody tr th:only-of-type {\n",
       "        vertical-align: middle;\n",
       "    }\n",
       "\n",
       "    .dataframe tbody tr th {\n",
       "        vertical-align: top;\n",
       "    }\n",
       "\n",
       "    .dataframe thead th {\n",
       "        text-align: right;\n",
       "    }\n",
       "</style>\n",
       "<table border=\"1\" class=\"dataframe\">\n",
       "  <thead>\n",
       "    <tr style=\"text-align: right;\">\n",
       "      <th></th>\n",
       "      <th>coef</th>\n",
       "    </tr>\n",
       "    <tr>\n",
       "      <th>category</th>\n",
       "      <th></th>\n",
       "    </tr>\n",
       "  </thead>\n",
       "  <tbody>\n",
       "    <tr>\n",
       "      <th>Airline</th>\n",
       "      <td>0.712915</td>\n",
       "    </tr>\n",
       "    <tr>\n",
       "      <th>Airport</th>\n",
       "      <td>-0.720768</td>\n",
       "    </tr>\n",
       "  </tbody>\n",
       "</table>\n",
       "</div>"
      ],
      "text/plain": [
       "              coef\n",
       "category          \n",
       "Airline   0.712915\n",
       "Airport  -0.720768"
      ]
     },
     "execution_count": 63,
     "metadata": {},
     "output_type": "execute_result"
    }
   ],
   "source": [
    "lin_reg_coefs[[\"category\", \"coef\"]].groupby(\"category\").mean()"
   ]
  },
  {
   "cell_type": "code",
   "execution_count": 70,
   "metadata": {},
   "outputs": [],
   "source": [
    "def run_permutation(df, category=\"category\", operation=lambda x, y: 0, n=1000):\n",
    "    random_df = df.copy(deep=True)\n",
    "    sample_stat = operation(df, category)\n",
    "    sim_stats = []\n",
    "    for _ in range(1000):\n",
    "        random_df[\"simulated\"] = random_df[category].sample(frac=1).reset_index(drop=True)\n",
    "        random_df\n",
    "        sim_stats.append(\n",
    "            operation(random_df.drop(category, axis=1), \"simulated\")\n",
    "        )\n",
    "    return np.array(sim_stats), sample_stat\n",
    "\n",
    "diff_means = lambda df, category: df.groupby(category).mean().diff().iloc[1, 0]\n",
    "sim_stats, sample_stat = run_permutation(lin_reg_coefs[[\"category\", \"coef\"]], category=\"category\", operation=diff_means, n=1000)"
   ]
  },
  {
   "cell_type": "code",
   "execution_count": 72,
   "metadata": {},
   "outputs": [
    {
     "data": {
      "text/plain": [
       "(array([ 7.49849953e-01,  4.05933171e+00,  1.82547939e+00,  2.89083733e+00,\n",
       "         2.56334384e+00,  2.05053827e+00, -3.57725295e-01,  2.65592815e+00,\n",
       "         1.40432698e+00,  1.09187577e+00, -4.28994986e+00, -1.80422835e+00,\n",
       "         1.15978309e+00,  1.81922979e+00,  9.92425531e-01, -5.39922726e+00,\n",
       "         5.70442066e-01, -1.00385423e+00, -3.74825040e-01, -4.94582296e+00,\n",
       "        -1.95531949e+00,  4.79765575e-01,  3.84998847e+00,  2.16135865e+00,\n",
       "         1.36116940e+00, -3.77169186e+00, -2.58817385e-01,  1.38775369e+00,\n",
       "         9.41592055e-01,  2.78779661e+00, -2.84442915e-01, -8.93234197e-01,\n",
       "        -3.56905087e-01, -9.85730736e-01, -1.47529168e-01, -2.56314969e-01,\n",
       "         1.33735336e+00,  1.23699646e+00, -6.90249518e-01,  9.57504017e-02,\n",
       "         1.94486663e+00, -8.67746800e-02, -1.06286175e+00, -1.07789004e+00,\n",
       "         1.80074170e+00, -3.93927943e+00,  8.63699835e-01,  1.77684186e+00,\n",
       "        -1.45738203e+00, -3.18912103e+00, -3.34764376e+00, -8.24558012e-01,\n",
       "         7.67203210e-01, -2.51309763e+00,  3.13933350e+00, -1.71547138e+00,\n",
       "         1.25779358e+00, -1.50834316e-01,  6.78254321e-01,  5.76049342e-01,\n",
       "         2.67308050e+00, -9.81783688e-01,  1.37559422e+00,  1.22420282e+00,\n",
       "        -9.08604364e-01,  2.78738746e+00,  8.92310401e-01, -4.58747583e+00,\n",
       "         2.80537576e+00,  2.27867158e+00,  3.05119507e+00,  2.14948362e+00,\n",
       "        -4.76938209e-01,  7.68671942e-01, -5.98445844e+00, -4.21799300e+00,\n",
       "         3.55748377e+00, -4.93184496e-01,  5.66556882e-01, -3.51970955e-01,\n",
       "         1.57152582e+00,  1.66658929e+00,  1.75679073e+00,  9.49061599e-01,\n",
       "        -3.55489466e+00,  7.53284116e-01,  5.73035309e-01,  9.80242369e-01,\n",
       "         1.46066143e+00, -7.54098386e-01, -1.77032851e+00,  9.34882937e-01,\n",
       "         1.23761933e+00,  4.74650413e-01, -6.60167027e+00, -3.83468987e+00,\n",
       "        -7.15289812e-01, -2.57200973e+00,  2.40052066e+00, -6.65319384e+00,\n",
       "         4.51658642e-01,  1.14595006e+00,  8.72835346e-01, -3.23512993e-01,\n",
       "         1.02982549e+00,  2.62352922e+00,  1.29623258e+00,  5.30505899e-01,\n",
       "         1.55267851e+00, -4.97296743e-01,  1.37726047e+00,  4.93518555e-01,\n",
       "         2.31229306e-01, -4.20985625e-01,  2.14068480e+00, -7.63123195e-01,\n",
       "        -2.85538875e+00,  7.43573903e-01, -4.99232537e+00,  2.57875058e+00,\n",
       "        -1.78351137e-01,  2.45631976e-01, -5.66187726e+00,  1.17273657e+00,\n",
       "        -1.44997976e+00, -2.83225667e+00,  2.35921015e+00,  2.65175773e+00,\n",
       "        -2.62960205e-01, -2.82622681e+00,  7.61737892e-01,  3.17075924e-03,\n",
       "         1.06827856e+00,  1.28666610e+00, -2.04556514e+00,  5.14049750e-01,\n",
       "         6.26191724e-01,  2.17142823e+00, -2.40120901e+00, -1.23651675e-01,\n",
       "        -3.03034409e+00, -5.83569345e+00,  1.80858774e+00,  5.11097852e-01,\n",
       "        -3.72009710e-01,  2.42353864e+00, -2.28418205e+00,  1.06017957e+00,\n",
       "        -3.57729250e+00,  1.63648946e+00, -1.92540612e+00,  7.77043472e-01,\n",
       "         2.12750124e+00, -1.04895192e+00, -1.09173724e+00, -2.88533606e-01,\n",
       "         6.24969258e-01,  1.19363076e+00, -2.06636403e+00,  1.64352296e+00,\n",
       "         8.70804524e-01,  1.42159088e+00, -1.57805000e+00,  7.22425113e-01,\n",
       "        -8.71406397e-01,  3.36940553e-01,  1.12511448e+00, -2.34081755e+00,\n",
       "        -3.89930827e+00, -5.18015661e-01, -2.06765221e+00, -4.70873914e+00,\n",
       "        -5.73070053e-01,  2.21513745e-01,  1.37398568e+00, -5.49642923e+00,\n",
       "         1.89119094e+00,  3.25703716e+00, -8.80842614e+00, -2.20620451e+00,\n",
       "        -3.40818338e+00,  1.69168942e+00,  9.50763290e-01,  1.27900734e+00,\n",
       "         3.66822021e+00, -6.10130255e-01,  7.04521551e-01,  2.06712174e+00,\n",
       "         2.55679235e+00, -1.18032775e+00, -6.00077813e-01,  5.78957124e-01,\n",
       "         2.23840191e-01,  1.03006912e+00,  3.41812973e-01,  1.05590010e+00,\n",
       "         9.32023264e-01, -5.10298411e-01, -1.43858425e+00,  1.41056117e+00,\n",
       "         1.42063178e+00,  7.34113018e-01,  1.57813910e+00, -8.54550195e-01,\n",
       "         2.12746556e+00,  2.53584040e+00,  2.17501493e+00,  1.12813681e+00,\n",
       "        -4.23734044e+00, -9.42729272e-01, -1.49084570e+00,  2.12740395e+00,\n",
       "         1.00168308e+00, -3.02257797e-01,  2.21595991e+00,  1.53648361e+00,\n",
       "        -5.96807510e+00,  3.04232083e-01,  1.18570021e+00, -5.43866917e-01,\n",
       "        -9.13513165e-01, -6.75433039e-01, -1.29416396e+00,  2.21790233e+00,\n",
       "        -3.22137109e-01, -8.07314237e-01,  1.59752171e+00,  3.80175315e-01,\n",
       "        -1.71953985e+00,  2.58798557e+00, -4.51951856e-02,  1.73610462e+00,\n",
       "         2.30847068e+00,  1.08874917e+00, -7.52377389e-01,  1.19868952e-01,\n",
       "         3.96869323e+00, -1.18899652e+00, -1.47010274e+00, -4.37362348e+00,\n",
       "         2.82888353e+00,  8.90317333e-01,  6.78175672e-01, -2.99188776e+00,\n",
       "        -1.83493447e+00,  1.80436056e+00,  2.11146153e-01, -3.02429281e+00,\n",
       "        -3.68641022e+00,  1.23204078e+00,  1.42182273e+00, -8.00776632e-01,\n",
       "        -1.97955241e+00,  3.25961534e+00, -6.35552018e-01, -1.86995683e-01,\n",
       "        -3.77137477e+00,  1.84307236e+00,  1.15695315e+00, -2.28710319e+00,\n",
       "         2.66572970e+00, -1.45807653e+00,  2.28902198e+00,  1.37409356e+00,\n",
       "        -1.95534253e+00,  1.57127176e+00,  7.08461010e-01,  1.20974900e+00,\n",
       "        -3.94408242e+00, -5.89054126e+00,  2.14951977e+00,  2.82495814e+00,\n",
       "        -1.75396210e-01,  3.77028371e+00, -9.21827240e-01,  6.98879253e-01,\n",
       "         2.03538445e+00, -4.53308108e+00,  1.88958746e+00, -4.06865867e+00,\n",
       "         1.54977401e+00, -1.47775455e+00,  1.41048620e+00,  1.78321405e+00,\n",
       "        -2.40550848e+00,  2.58604718e+00, -2.72807304e-01,  1.03249796e+00,\n",
       "         9.68395660e-01,  2.82061242e+00, -1.38314595e+00,  8.95227968e-01,\n",
       "         1.26867880e+00, -2.60784886e-01,  1.29556776e-01,  1.94818854e+00,\n",
       "         3.27511210e-01,  1.24603176e+00,  3.78737232e+00,  3.29430924e+00,\n",
       "        -3.61333869e-01,  1.19707524e+00,  6.71526526e-01,  9.29844837e-01,\n",
       "        -1.66565003e+00,  1.41621795e+00, -3.43799122e+00, -1.86483465e+00,\n",
       "         2.45760322e+00,  8.01495172e-01, -8.53929641e-01,  7.47767935e-01,\n",
       "         1.41140675e-01,  1.20303622e+00, -2.73742120e-01, -2.67916004e+00,\n",
       "        -1.27119283e+00,  1.28185605e-01,  1.96454204e+00,  1.80739997e+00,\n",
       "         2.29388084e+00, -4.98660180e+00,  1.52992040e+00,  7.50603154e-01,\n",
       "         3.98290233e+00,  2.20486477e+00, -7.92698136e-01,  3.02968346e+00,\n",
       "        -3.40309080e-01, -3.51407872e+00, -6.78015469e-02,  2.36583113e+00,\n",
       "        -1.25422385e+00,  1.54553063e-01,  4.88343877e-01,  2.74032323e+00,\n",
       "        -1.34767584e+00,  1.21559159e+00,  1.72995976e+00, -1.20969504e+00,\n",
       "         5.15903205e-01, -3.99329558e+00,  2.93469907e+00, -2.73477080e+00,\n",
       "         3.47491207e-01, -2.30109975e-01,  1.82799656e+00, -1.08054139e+00,\n",
       "         1.88850086e+00, -2.17156950e-02, -8.54425952e-01,  1.89438149e+00,\n",
       "        -1.05059626e+00,  6.04169024e-01,  1.56844476e+00, -3.56304465e+00,\n",
       "        -1.11578156e+00, -1.66577980e+00,  1.41956568e+00, -1.51291828e+00,\n",
       "        -7.08442509e+00,  1.07110926e+00,  1.32460179e+00, -2.72971431e+00,\n",
       "         1.46266672e+00, -2.49578308e+00, -1.64818787e+00,  9.40802484e-01,\n",
       "         6.92159551e-01,  1.31801445e+00,  2.76503700e+00,  1.20378569e+00,\n",
       "        -1.01745161e+00,  2.06067521e+00,  2.01869037e+00, -1.18676565e+00,\n",
       "         8.32813377e-01, -8.46430443e-02,  1.95665024e+00, -4.03020810e+00,\n",
       "        -4.45177447e+00,  1.29888696e+00,  1.75552474e+00, -1.19577854e-02,\n",
       "        -2.92277639e+00,  1.88872714e+00, -3.38895586e+00, -6.64051412e+00,\n",
       "         1.39028339e+00,  1.68277218e+00, -5.37461620e+00, -6.91206051e+00,\n",
       "        -4.93193868e+00, -4.46497488e-01,  4.06457454e-01, -1.35464754e-01,\n",
       "         7.59841687e-01,  1.80689278e+00, -1.27197019e+00, -1.97177710e+00,\n",
       "        -1.67657003e+00, -1.45325684e+00,  1.80307459e+00,  1.52986010e+00,\n",
       "         4.06710965e-01,  1.31098564e+00,  1.08550285e+00,  1.27236012e+00,\n",
       "         1.84924785e-01,  2.15294993e+00, -6.80374632e+00, -1.70879120e+00,\n",
       "        -4.22009853e+00,  1.95577547e+00,  1.49064105e+00,  8.76949254e-01,\n",
       "         1.98427567e+00,  1.09206777e-01,  2.71386884e+00,  1.30222211e+00,\n",
       "         2.30206718e+00, -5.03677039e+00,  2.46662770e+00,  6.65247046e-01,\n",
       "        -4.55298856e-01, -2.70211616e+00,  4.15272034e-01, -1.34505940e+00,\n",
       "         1.21661140e+00, -2.65866280e-01, -2.90541893e+00,  4.70122202e-01,\n",
       "         1.49332399e+00, -3.41412584e+00,  1.22775997e-01,  2.36223590e+00,\n",
       "         3.02248977e+00,  9.25906032e-01,  1.13005737e+00,  2.33993184e-01,\n",
       "        -1.34697901e+00, -6.86712303e-01, -4.03347489e-01, -7.43077439e-02,\n",
       "        -1.43978062e+00,  1.37287070e-01, -4.13690705e+00,  6.60813540e-01,\n",
       "        -1.62813094e+00,  1.81430966e+00,  7.38330593e-01,  2.00195004e+00,\n",
       "         2.55256140e+00, -1.08581124e-01,  1.49768204e+00, -8.92491232e-01,\n",
       "        -1.68440583e+00, -4.32432329e+00, -9.17924621e-02,  2.60703527e-01,\n",
       "         2.21682045e+00,  1.27389001e+00, -3.38995759e+00,  3.24836852e-01,\n",
       "         9.16461640e-01,  2.49975523e+00,  1.53596719e+00, -2.67085370e+00,\n",
       "         1.22888083e-01,  1.35964249e+00, -3.89991985e+00,  3.48301198e-01,\n",
       "        -3.17180994e+00, -3.85537462e+00,  3.02500952e+00, -1.59056177e+00,\n",
       "         5.00518148e-01, -3.88621639e-01,  3.08575660e+00,  8.13138751e-01,\n",
       "        -2.63786622e+00, -1.71179956e+00,  3.42784322e+00,  5.51690551e-01,\n",
       "         5.29698401e-01, -1.70675094e+00,  1.24201207e+00, -1.84682929e+00,\n",
       "         2.20549850e+00, -1.70734483e+00,  1.27752392e+00,  2.64177313e+00,\n",
       "        -4.40916906e+00,  6.95566281e-01, -4.35701851e+00,  1.81354618e+00,\n",
       "         2.15358550e+00, -2.82186374e+00,  1.20818196e+00,  1.53060023e+00,\n",
       "        -3.44114172e+00, -2.33090762e+00, -3.40070704e+00,  8.26713867e-01,\n",
       "        -7.07282219e-02, -2.22001699e-02, -1.63111602e+00,  3.00063149e-01,\n",
       "         1.61082682e+00,  2.08957389e+00,  3.52397046e+00, -2.36204364e+00,\n",
       "        -1.78908913e+00,  1.72950683e+00,  2.21289235e+00,  1.95960058e+00,\n",
       "         1.12474392e+00,  1.13594251e+00,  9.78256836e-01, -1.74977264e+00,\n",
       "        -6.04076797e-01,  2.05422583e+00,  2.40797328e+00,  1.53419277e+00,\n",
       "         2.34827599e+00,  1.70067264e+00,  9.45221863e-01,  1.26427548e+00,\n",
       "         1.94168118e+00,  2.75047998e+00,  2.43000060e+00, -7.87911153e+00,\n",
       "        -2.19111895e+00, -2.46925049e+00, -2.27240013e+00,  1.13084517e+00,\n",
       "        -1.20154932e+00, -9.88640464e-01,  9.77963112e-01,  2.87288976e+00,\n",
       "         6.71810827e-01,  6.76658877e-01,  1.21846610e+00,  8.06952697e-01,\n",
       "         2.63746290e+00,  1.36196270e+00,  2.21396249e+00,  9.36288533e-01,\n",
       "        -2.50491297e+00,  1.77237344e+00,  2.70055637e+00, -2.39870292e+00,\n",
       "         3.76670116e-01, -2.47943804e+00,  1.14791501e+00, -9.52134188e-01,\n",
       "         4.74638985e-01, -1.62271696e+00,  2.94600685e-01,  2.20543407e+00,\n",
       "        -3.83628483e+00,  2.87734689e+00, -1.04301497e+00, -3.02198154e+00,\n",
       "        -1.10359594e+00,  2.13175405e+00, -1.58422152e+00,  2.79969683e+00,\n",
       "        -1.20474570e+00,  1.20486099e+00, -1.05881437e+00,  1.09483762e+00,\n",
       "         2.83750303e+00,  1.07514109e+00, -1.21698669e+00,  1.27180918e+00,\n",
       "         2.40851240e+00, -3.25242655e+00, -4.82452034e-01, -1.82622369e+00,\n",
       "         6.15665841e-01,  2.21650608e+00,  3.06741895e+00,  2.92884835e+00,\n",
       "         1.71204226e+00, -1.42448645e+00, -4.50127325e-02,  7.20983841e-01,\n",
       "         8.80272345e-02,  1.70300034e+00,  1.40353982e+00, -4.94697944e+00,\n",
       "         3.44331482e+00, -2.78885455e+00,  4.31736836e-01, -7.24015615e-01,\n",
       "         1.44161304e-01, -6.96574607e-01, -2.99159832e+00, -8.52211926e-01,\n",
       "        -2.32342592e+00, -2.30869571e+00,  2.64865397e+00,  3.19714968e+00,\n",
       "         1.47170362e+00,  2.34065650e+00,  1.99800054e+00,  1.89761247e+00,\n",
       "         2.46882940e+00,  1.39894184e+00, -9.36715576e-01,  1.47310420e-01,\n",
       "         7.55801708e-01,  2.06824853e+00,  1.69899710e+00,  3.58821359e+00,\n",
       "         4.31685899e+00, -2.84938838e+00,  2.92468487e+00, -3.33956067e+00,\n",
       "         8.92690772e-01,  2.41426647e+00, -1.05545882e+00,  1.78577229e+00,\n",
       "         2.10811468e+00, -5.35038765e-01,  2.19262808e+00, -2.49703544e+00,\n",
       "        -2.00940939e+00,  1.74462463e+00,  1.14824910e+00,  3.35436315e+00,\n",
       "         7.08261595e-01, -2.67017114e+00,  1.82983442e+00,  1.87805568e+00,\n",
       "         7.06549002e-01, -1.60516916e+00, -3.11568136e+00,  2.92051993e+00,\n",
       "         3.47499588e-01, -2.32534031e+00,  1.14286403e-01,  1.92023616e+00,\n",
       "         2.17231412e+00,  1.55238946e-01,  1.31469085e+00,  1.01616842e+00,\n",
       "        -2.03699617e-01,  5.90980917e-01, -1.84710169e+00, -2.17352968e+00,\n",
       "        -4.92080033e+00,  1.30660701e+00, -9.37570106e-01,  1.52617538e+00,\n",
       "        -1.58298283e+00, -5.66436480e-01,  2.52555718e+00, -1.61452971e+00,\n",
       "        -4.11376205e+00, -9.97002914e-01, -1.05921185e+00, -6.37906579e-01,\n",
       "         2.37300534e+00,  1.82965758e+00,  3.26693165e+00,  1.29220410e+00,\n",
       "         1.98485428e+00,  1.22266773e+00,  2.17119137e+00, -4.50451146e+00,\n",
       "        -3.48498687e-01,  1.86379016e+00,  1.84820972e+00, -1.64923581e+00,\n",
       "        -2.88897892e+00, -3.45759409e+00, -2.66833778e+00,  2.42861105e-01,\n",
       "         3.23101437e-01,  3.74926077e-01,  2.37853386e+00,  2.71399190e+00,\n",
       "        -1.74388766e+00, -2.33296543e+00, -4.73635519e+00, -6.45597463e-01,\n",
       "         2.91724132e+00,  7.41035326e-01,  3.71600131e-01,  9.92285248e-01,\n",
       "         1.92505053e+00, -6.92864953e-01, -2.54054198e+00, -7.01468729e-01,\n",
       "        -1.62140812e+00, -3.60633117e-01,  1.52380065e+00,  2.25555060e-01,\n",
       "         9.86719897e-01, -6.06546431e+00, -1.29405135e+00,  2.20323814e+00,\n",
       "         2.27717081e+00, -2.38940401e-01, -5.01383309e-01, -3.07633554e-01,\n",
       "         6.60161627e-01,  1.44610118e+00,  4.72066930e-01, -4.94435323e-02,\n",
       "        -1.37409006e+00, -2.22538471e+00,  1.28076947e+00,  1.89517965e+00,\n",
       "         2.31861283e+00,  1.10473457e+00,  2.24453697e+00,  2.98276382e+00,\n",
       "        -7.25039237e-01,  2.42439203e+00, -3.56274411e+00,  1.36440873e+00,\n",
       "        -2.59666776e+00,  1.99605481e+00,  2.12514152e+00, -2.79825327e+00,\n",
       "        -2.96595695e+00,  8.64078594e-01,  3.06434587e+00, -1.93253231e+00,\n",
       "         6.86540548e-02, -7.26470657e+00, -8.54425449e-01, -4.92946183e-01,\n",
       "        -1.02467279e-02, -2.14313240e+00,  1.86274891e+00, -9.82991750e+00,\n",
       "        -6.22485478e+00, -4.25546845e+00, -6.62596219e-01,  2.71069171e+00,\n",
       "         1.21470820e+00,  1.15480308e+00, -4.88875904e+00,  2.28562983e+00,\n",
       "         2.53652917e+00, -4.19394582e-01,  1.28714699e+00,  1.24895282e+00,\n",
       "         2.63606998e+00, -1.87557667e+00,  1.10924999e+00, -9.39840229e-01,\n",
       "         3.53672140e-01, -1.83088879e+00,  2.05565382e-02,  1.75805685e+00,\n",
       "        -2.23751864e+00,  2.16589006e+00,  2.18387243e+00,  2.10247731e+00,\n",
       "        -1.57094918e+00,  5.33451367e-01, -3.61762095e+00, -2.28756632e+00,\n",
       "         3.13384163e+00,  2.65980289e-01, -4.32268303e+00, -4.79873056e-01,\n",
       "         8.38723415e-01,  1.34986219e+00, -3.87719493e+00,  1.86072522e+00,\n",
       "        -5.20146239e+00,  2.39875026e+00,  2.22123340e+00, -4.50765503e-01,\n",
       "         1.47695904e+00, -2.35273401e+00,  1.43372315e+00,  1.91557458e-01,\n",
       "        -2.95840269e+00, -2.06580476e+00,  9.19840454e-01, -9.20477579e-01,\n",
       "         1.96067886e+00,  3.25454802e+00, -2.82446304e-01,  8.99721943e-01,\n",
       "         1.02936270e-01,  1.96511385e+00, -2.83055620e+00,  1.57992505e+00,\n",
       "         6.82501878e-01, -1.46640180e+00,  8.85327462e-02, -2.03005630e+00,\n",
       "        -3.49720171e+00, -2.84073013e+00, -2.53886748e-01, -9.53035960e-01,\n",
       "         1.89189365e+00,  1.94567522e+00,  2.06113495e+00, -1.02291514e+00,\n",
       "        -1.61633757e-01, -1.96032107e+00,  5.97798472e-02,  1.82439936e+00,\n",
       "         1.62263423e-01,  4.77341712e-01, -4.67843436e-01,  1.34647083e+00,\n",
       "         3.44675892e+00, -3.67469896e+00, -3.31136501e+00,  3.97204213e-01,\n",
       "         1.63104324e+00, -3.77455511e+00,  9.98982111e-01,  2.02037501e+00,\n",
       "         9.60218901e-02, -2.37785824e+00, -2.08624632e+00, -1.10604113e+00,\n",
       "        -6.49666419e-01, -7.82747350e-01,  1.92974846e+00, -2.49459324e+00,\n",
       "         2.28908901e+00,  5.03797566e-01,  7.64266034e-01, -1.11485361e+00,\n",
       "         2.51023957e+00, -1.14985396e-01, -1.31908029e+00, -3.13267146e+00,\n",
       "         5.15722097e-01,  7.03268557e-01,  7.79004123e-02,  1.75143309e-01,\n",
       "         1.70341578e-01,  5.01098948e-02, -3.24762010e+00, -1.96705587e+00,\n",
       "         2.41598399e-01,  4.64045268e-01,  2.10008272e+00, -2.59636685e+00,\n",
       "        -7.00278812e+00,  1.55522570e+00,  3.10185907e+00,  2.30186351e+00,\n",
       "        -2.98330227e+00, -9.45356595e-01,  7.04535954e-01,  1.13756590e+00,\n",
       "         7.19309354e-01,  1.53830482e+00, -1.73078178e+00,  8.32213866e-01,\n",
       "        -3.09882780e+00,  3.08601341e-02, -1.07579673e+00, -4.17610949e-01,\n",
       "        -2.58972997e-01,  4.50263475e-01, -3.90597019e-02,  7.27674959e-01,\n",
       "        -1.04292608e+00,  6.02728384e-01,  2.12434361e+00,  2.80496606e-01,\n",
       "         2.12215165e+00,  1.25218615e+00,  2.05445201e+00, -2.03792356e+00,\n",
       "        -4.04039567e-01,  2.39867776e+00, -3.26499551e+00, -8.99097377e-01,\n",
       "         2.79636575e+00,  2.65702445e+00,  1.99962450e+00,  1.06931101e+00,\n",
       "         2.57451038e+00, -3.61663956e+00,  1.77415613e+00,  2.08277201e+00,\n",
       "        -7.66248806e-02, -3.60703024e+00, -2.42728493e-01,  3.82964663e-01,\n",
       "        -4.88929811e+00, -2.85477630e+00, -2.83218604e+00,  5.92939836e-01,\n",
       "         2.42905498e+00,  1.52560778e+00, -9.79757307e-01, -2.01018946e+00,\n",
       "         1.27031668e-01,  1.13043017e+00,  8.49983095e-01, -1.43975841e+00,\n",
       "         3.20718927e+00, -1.87299818e+00, -1.81470459e+00,  1.30383519e+00,\n",
       "        -4.24135663e-01, -2.76983352e+00,  7.96308188e-01, -2.35538464e+00,\n",
       "        -2.61318849e-01,  3.18510330e+00, -2.70892426e+00, -1.58434354e+00,\n",
       "         1.51531983e-01, -4.91767441e+00,  6.14442904e-01, -1.69873799e+00,\n",
       "         4.31246146e-01, -1.59607217e+00,  2.02907979e+00,  1.64737922e+00,\n",
       "        -1.39770817e+00, -1.00267034e+00,  2.07893399e+00, -1.29474229e+00,\n",
       "        -1.05696569e+00,  1.98749947e+00, -1.47347093e+00,  2.80820753e+00,\n",
       "         1.35992349e+00,  3.97574364e-01,  4.20907368e-01,  2.28504379e+00,\n",
       "        -1.22787941e-01, -2.24600072e+00,  1.59720255e+00, -1.61515626e+00,\n",
       "        -7.00263715e-01,  2.58290532e+00,  8.03932575e-01,  1.58131975e+00,\n",
       "        -3.80762584e+00, -2.69930599e+00,  2.89483605e+00,  2.70120010e+00,\n",
       "         6.30527304e-01,  5.01620734e-01,  9.98990903e-01,  2.84222833e+00,\n",
       "         1.99534911e+00,  2.37121053e+00, -1.70416902e+00,  1.59696109e+00,\n",
       "         3.16048703e+00, -1.99916591e+00,  1.49599440e+00, -1.35878376e+00,\n",
       "         8.06382771e-01, -3.87931961e+00,  1.43386982e+00,  2.49850817e-01,\n",
       "         1.78948755e+00,  5.50321050e-01, -3.83362636e-01,  6.98693626e-01,\n",
       "         1.07641270e+00,  7.94948604e-01,  1.78515994e+00, -9.57527446e-01,\n",
       "        -4.29793342e-01,  2.60831853e+00,  1.33120246e+00, -7.74978814e-01,\n",
       "         1.29937443e+00,  2.34697356e+00,  1.29071879e+00,  2.61158767e-01,\n",
       "        -3.91307800e+00,  4.22499275e-01,  1.56561214e-01, -1.55197601e+00,\n",
       "         3.13015299e-01,  1.17837745e+00, -8.93964245e-01,  1.41622119e+00,\n",
       "        -2.39050002e+00, -6.45880844e+00,  6.81162617e-01,  1.26544728e+00,\n",
       "        -2.91004285e+00,  1.07998342e-01, -9.25592729e-01,  8.59138468e-01]),\n",
       " -1.4336827199971904)"
      ]
     },
     "execution_count": 72,
     "metadata": {},
     "output_type": "execute_result"
    }
   ],
   "source": [
    "sim_stats, sample_stat"
   ]
  },
  {
   "cell_type": "code",
   "execution_count": 73,
   "metadata": {},
   "outputs": [
    {
     "data": {
      "text/plain": [
       "243"
      ]
     },
     "execution_count": 73,
     "metadata": {},
     "output_type": "execute_result"
    }
   ],
   "source": [
    "np.sum(sample_stat > sim_stats)"
   ]
  },
  {
   "cell_type": "code",
   "execution_count": 74,
   "metadata": {},
   "outputs": [
    {
     "data": {
      "text/plain": [
       "((-4.949852374861677, -2.558066363521406),)"
      ]
     },
     "execution_count": 74,
     "metadata": {},
     "output_type": "execute_result"
    }
   ],
   "source": [
    "airline_data = pd.read_csv(\"flight_data.csv\", low_memory = False)\n",
    "df = airline_data.loc[~airline_data[\"DepDelay\"].isnull(), [\"DepDelay\", \"Reporting_Airline\", \"Origin\"]]\n",
    "\n",
    "X = OneHotEncoder(drop='first').fit_transform(df[[\"Reporting_Airline\", \"Origin\"]])\n",
    "reg = LinearRegression().fit(X, df[[\"DepDelay\"]])\n",
    "cols = OneHotEncoder(drop='first').fit(df[[\"Reporting_Airline\", \"Origin\"]]).get_feature_names_out()\n",
    "lin_reg_coefs = pd.DataFrame({\"name\": cols, \"coef\": reg.coef_[0]})\n",
    "lin_reg_coefs[\"category\"] = lin_reg_coefs[\"name\"].str.contains(\"Origin\").replace({True: \"Airport\", False: \"Airline\"})\n",
    "lin_reg_coefs[\"abs coef\"] = np.abs(lin_reg_coefs[\"coef\"])\n",
    "\n",
    "xy_object = sm.stats.CompareMeans(\n",
    "    sm.stats.DescrStatsW(lin_reg_coefs.loc[lin_reg_coefs[\"category\"] == \"Airline\", \"abs coef\"]), \n",
    "    sm.stats.DescrStatsW(lin_reg_coefs.loc[lin_reg_coefs[\"category\"] == \"Airport\", \"abs coef\"])\n",
    ")\n",
    "\n",
    "sm_result = xy_object.tconfint_diff(alpha=0.05, usevar='unequal'), \n",
    "sm_result"
   ]
  },
  {
   "cell_type": "code",
   "execution_count": 75,
   "metadata": {},
   "outputs": [
    {
     "data": {
      "text/plain": [
       "((-4.756756111851738, inf),)"
      ]
     },
     "execution_count": 75,
     "metadata": {},
     "output_type": "execute_result"
    }
   ],
   "source": [
    "sm_result = xy_object.tconfint_diff(alpha=0.05, usevar='unequal', alternative=\"larger\"), \n",
    "sm_result"
   ]
  },
  {
   "cell_type": "code",
   "execution_count": 76,
   "metadata": {},
   "outputs": [
    {
     "data": {
      "text/plain": [
       "((-inf, -2.751162626531346),)"
      ]
     },
     "execution_count": 76,
     "metadata": {},
     "output_type": "execute_result"
    }
   ],
   "source": [
    "sm_result = xy_object.tconfint_diff(alpha=0.05, usevar='unequal', alternative=\"smaller\"), \n",
    "sm_result"
   ]
  },
  {
   "cell_type": "code",
   "execution_count": 77,
   "metadata": {},
   "outputs": [
    {
     "data": {
      "text/plain": [
       "Ttest_indResult(statistic=6.174076074024613, pvalue=9.352199563542947e-10)"
      ]
     },
     "execution_count": 77,
     "metadata": {},
     "output_type": "execute_result"
    }
   ],
   "source": [
    "import scipy.stats as stats\n",
    "stats.ttest_ind(\n",
    "    lin_reg_coefs.loc[lin_reg_coefs[\"category\"] == \"Airport\", \"abs coef\"], \n",
    "    lin_reg_coefs.loc[lin_reg_coefs[\"category\"] == \"Airline\", \"abs coef\"], \n",
    "    equal_var=False,\n",
    "    alternative='greater'\n",
    ")"
   ]
  },
  {
   "cell_type": "code",
   "execution_count": 78,
   "metadata": {},
   "outputs": [
    {
     "data": {
      "text/plain": [
       "Ttest_indResult(statistic=-1.897555702482134, pvalue=0.970430453790775)"
      ]
     },
     "execution_count": 78,
     "metadata": {},
     "output_type": "execute_result"
    }
   ],
   "source": [
    "import scipy.stats as stats\n",
    "stats.ttest_ind(\n",
    "    lin_reg_coefs.loc[lin_reg_coefs[\"category\"] == \"Airport\", \"coef\"], \n",
    "    lin_reg_coefs.loc[lin_reg_coefs[\"category\"] == \"Airline\", \"coef\"], \n",
    "    equal_var=False,\n",
    "    alternative='greater'\n",
    ")"
   ]
  },
  {
   "cell_type": "code",
   "execution_count": 79,
   "metadata": {},
   "outputs": [
    {
     "data": {
      "text/plain": [
       "Ttest_indResult(statistic=1.897555702482134, pvalue=0.029569546209225035)"
      ]
     },
     "execution_count": 79,
     "metadata": {},
     "output_type": "execute_result"
    }
   ],
   "source": [
    "import scipy.stats as stats\n",
    "stats.ttest_ind(\n",
    "    lin_reg_coefs.loc[lin_reg_coefs[\"category\"] == \"Airline\", \"coef\"],\n",
    "    lin_reg_coefs.loc[lin_reg_coefs[\"category\"] == \"Airport\", \"coef\"], \n",
    "    equal_var=False,\n",
    "    alternative='greater'\n",
    ")"
   ]
  },
  {
   "cell_type": "code",
   "execution_count": 80,
   "metadata": {},
   "outputs": [
    {
     "data": {
      "text/plain": [
       "((-1.408646601480585, -0.039375035156336224),)"
      ]
     },
     "execution_count": 80,
     "metadata": {},
     "output_type": "execute_result"
    }
   ],
   "source": [
    "airline_data = pd.read_csv(\"flight_data.csv\", low_memory = False)\n",
    "df = airline_data.loc[~airline_data[\"DepDelay\"].isnull(), [\"DepDelay\", \"Reporting_Airline\", \"Origin\"]]\n",
    "df = df[df[\"Origin\"].isin(top_50_airorts)]\n",
    "\n",
    "X = OneHotEncoder(drop='first').fit_transform(df[[\"Reporting_Airline\", \"Origin\"]])\n",
    "reg = LinearRegression().fit(X, df[[\"DepDelay\"]])\n",
    "cols = OneHotEncoder(drop='first').fit(df[[\"Reporting_Airline\", \"Origin\"]]).get_feature_names_out()\n",
    "lin_reg_coefs = pd.DataFrame({\"name\": cols, \"coef\": reg.coef_[0]})\n",
    "lin_reg_coefs[\"category\"] = lin_reg_coefs[\"name\"].str.contains(\"Origin\").replace({True: \"Airport\", False: \"Airline\"})\n",
    "lin_reg_coefs[\"abs coef\"] = np.abs(lin_reg_coefs[\"coef\"])\n",
    "\n",
    "xy_object = sm.stats.CompareMeans(\n",
    "    sm.stats.DescrStatsW(lin_reg_coefs.loc[lin_reg_coefs[\"category\"] == \"Airline\", \"abs coef\"]), \n",
    "    sm.stats.DescrStatsW(lin_reg_coefs.loc[lin_reg_coefs[\"category\"] == \"Airport\", \"abs coef\"])\n",
    ")\n",
    "\n",
    "sm_result = xy_object.tconfint_diff(alpha=0.05, usevar='unequal'), \n",
    "sm_result"
   ]
  },
  {
   "cell_type": "code",
   "execution_count": 81,
   "metadata": {},
   "outputs": [
    {
     "data": {
      "text/plain": [
       "Ttest_indResult(statistic=2.1054667053565983, pvalue=0.019240301312312455)"
      ]
     },
     "execution_count": 81,
     "metadata": {},
     "output_type": "execute_result"
    }
   ],
   "source": [
    "import scipy.stats as stats\n",
    "stats.ttest_ind(\n",
    "    lin_reg_coefs.loc[lin_reg_coefs[\"category\"] == \"Airport\", \"abs coef\"], \n",
    "    lin_reg_coefs.loc[lin_reg_coefs[\"category\"] == \"Airline\", \"abs coef\"], \n",
    "    equal_var=False,\n",
    "    alternative='greater'\n",
    ")"
   ]
  },
  {
   "cell_type": "code",
   "execution_count": 82,
   "metadata": {},
   "outputs": [
    {
     "data": {
      "text/plain": [
       "Ttest_indResult(statistic=3.9536252876070623, pvalue=0.00010613206757001293)"
      ]
     },
     "execution_count": 82,
     "metadata": {},
     "output_type": "execute_result"
    }
   ],
   "source": [
    "import scipy.stats as stats\n",
    "stats.ttest_ind(\n",
    "    lin_reg_coefs.loc[lin_reg_coefs[\"category\"] == \"Airport\", \"coef\"], \n",
    "    lin_reg_coefs.loc[lin_reg_coefs[\"category\"] == \"Airline\", \"coef\"],\n",
    "    \n",
    "    equal_var=False,\n",
    "    alternative='greater'\n",
    ")"
   ]
  },
  {
   "cell_type": "code",
   "execution_count": null,
   "metadata": {},
   "outputs": [],
   "source": []
  },
  {
   "cell_type": "code",
   "execution_count": null,
   "metadata": {},
   "outputs": [],
   "source": []
  }
 ],
 "metadata": {
  "kernelspec": {
   "display_name": "asid",
   "language": "python",
   "name": "python3"
  },
  "language_info": {
   "codemirror_mode": {
    "name": "ipython",
    "version": 3
   },
   "file_extension": ".py",
   "mimetype": "text/x-python",
   "name": "python",
   "nbconvert_exporter": "python",
   "pygments_lexer": "ipython3",
   "version": "3.8.18"
  }
 },
 "nbformat": 4,
 "nbformat_minor": 2
}
